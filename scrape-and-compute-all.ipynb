{
 "cells": [
  {
   "cell_type": "code",
   "execution_count": 1,
   "metadata": {
    "collapsed": false
   },
   "outputs": [],
   "source": [
    "%matplotlib inline\n",
    "import pandas as pd\n",
    "from bs4 import BeautifulSoup\n",
    "import urllib\n",
    "from collections import OrderedDict\n",
    "from math import ceil, floor\n",
    "from operator import itemgetter\n",
    "import matplotlib.pyplot as plt\n",
    "from os.path import isfile"
   ]
  },
  {
   "cell_type": "markdown",
   "metadata": {},
   "source": [
    "## Scrape Wikipedia Page"
   ]
  },
  {
   "cell_type": "markdown",
   "metadata": {},
   "source": [
    "Yes, I could have also scraped the number of electors per state from the election pages. I decided to type them in, instead."
   ]
  },
  {
   "cell_type": "code",
   "execution_count": 2,
   "metadata": {
    "collapsed": false
   },
   "outputs": [],
   "source": [
    "# list of state abbreviations\n",
    "states = ['AL','AK','AZ','AR','CA','CO','CT','DC','DE','FL',\n",
    "          'GA','HI','ID','IL','IN','IA','KS','KY','LA','ME',\n",
    "          'MD','MA','MI','MN','MS','MO','MT','NE','NV','NH',\n",
    "          'NJ','NM','NY','NC','ND','OH','OK','OR','PA','RI',\n",
    "          'SC','SD','TN','TX','UT','VT','VA','WA','WV','WI','WY', 'US']\n",
    "\n",
    "def append_sum(ec, ignore_senate_ec_votes=False):\n",
    "    subtract = 100 if ignore_senate_ec_votes else 0\n",
    "    ec.append(sum(ec)-subtract)\n",
    "\n",
    "def build_ec_votes_df(ignore_senate_ec_votes=False):\n",
    "    ev = pd.DataFrame.from_dict(\n",
    "         {2000: [9,  3,  8,  6,  54, 8,  8,  3,  3,  25,\n",
    "                 13, 4,  4,  22, 12, 7,  6,  8,  9,  4,\n",
    "                 10, 12, 18, 10, 7,  11, 3,  5,  4,  4,\n",
    "                 15, 5,  33, 14, 3,  21, 8,  7,  23, 4,\n",
    "                 8,  3,  11, 32, 5,  3,  13, 11, 5,  11, 3, 538],\n",
    "          2004: [9,  3,  10, 6,  55, 9,  7,  3,  3,  27,\n",
    "                 15, 4,  4,  21, 11, 7,  6,  8,  9,  4,\n",
    "                 10, 12, 17, 10, 6,  11, 3,  5,  5,  4,\n",
    "                 15, 5,  31, 15, 3,  20, 7,  7,  21, 4,\n",
    "                 8,  3,  11, 34, 5,  3,  13, 11, 5,  10, 3, 538],\n",
    "          2012: [9,  3,  11, 6,  55, 9,  7,  3,  3,  29,\n",
    "                 16, 4,  4,  20, 11, 6,  6,  8,  8,  4,\n",
    "                 10, 11, 16, 10, 6,  10, 3,  5,  6,  4,\n",
    "                 14, 5,  29, 15, 3,  18, 7,  7,  20, 4,\n",
    "                 9,  3,  11, 38, 6,  3,  13, 12, 5,  10, 3, 538],\n",
    "          'states': states})\n",
    "    ev.set_index(keys='states', inplace=True)\n",
    "    if ignore_senate_ec_votes:\n",
    "        for series in ev.columns:\n",
    "            ev[series] -= 2\n",
    "            ev[series][-1] -= 100\n",
    "    ev[2016]=ev[2012]\n",
    "    ev[2008]=ev[2004]\n",
    "    ev.sort_index(axis=1, inplace=True)\n",
    "    return ev"
   ]
  },
  {
   "cell_type": "code",
   "execution_count": 3,
   "metadata": {
    "collapsed": false
   },
   "outputs": [
    {
     "data": {
      "text/html": [
       "<div>\n",
       "<table border=\"1\" class=\"dataframe\">\n",
       "  <thead>\n",
       "    <tr style=\"text-align: right;\">\n",
       "      <th></th>\n",
       "      <th>2000</th>\n",
       "      <th>2004</th>\n",
       "      <th>2008</th>\n",
       "      <th>2012</th>\n",
       "      <th>2016</th>\n",
       "    </tr>\n",
       "    <tr>\n",
       "      <th>states</th>\n",
       "      <th></th>\n",
       "      <th></th>\n",
       "      <th></th>\n",
       "      <th></th>\n",
       "      <th></th>\n",
       "    </tr>\n",
       "  </thead>\n",
       "  <tbody>\n",
       "    <tr>\n",
       "      <th>WA</th>\n",
       "      <td>11</td>\n",
       "      <td>11</td>\n",
       "      <td>11</td>\n",
       "      <td>12</td>\n",
       "      <td>12</td>\n",
       "    </tr>\n",
       "    <tr>\n",
       "      <th>WV</th>\n",
       "      <td>5</td>\n",
       "      <td>5</td>\n",
       "      <td>5</td>\n",
       "      <td>5</td>\n",
       "      <td>5</td>\n",
       "    </tr>\n",
       "    <tr>\n",
       "      <th>WI</th>\n",
       "      <td>11</td>\n",
       "      <td>10</td>\n",
       "      <td>10</td>\n",
       "      <td>10</td>\n",
       "      <td>10</td>\n",
       "    </tr>\n",
       "    <tr>\n",
       "      <th>WY</th>\n",
       "      <td>3</td>\n",
       "      <td>3</td>\n",
       "      <td>3</td>\n",
       "      <td>3</td>\n",
       "      <td>3</td>\n",
       "    </tr>\n",
       "    <tr>\n",
       "      <th>US</th>\n",
       "      <td>538</td>\n",
       "      <td>538</td>\n",
       "      <td>538</td>\n",
       "      <td>538</td>\n",
       "      <td>538</td>\n",
       "    </tr>\n",
       "  </tbody>\n",
       "</table>\n",
       "</div>"
      ],
      "text/plain": [
       "        2000  2004  2008  2012  2016\n",
       "states                              \n",
       "WA        11    11    11    12    12\n",
       "WV         5     5     5     5     5\n",
       "WI        11    10    10    10    10\n",
       "WY         3     3     3     3     3\n",
       "US       538   538   538   538   538"
      ]
     },
     "execution_count": 3,
     "metadata": {},
     "output_type": "execute_result"
    }
   ],
   "source": [
    "ec_votes = build_ec_votes_df()\n",
    "ec_votes.tail()"
   ]
  },
  {
   "cell_type": "code",
   "execution_count": 4,
   "metadata": {
    "collapsed": true
   },
   "outputs": [],
   "source": [
    "def get_headings(head_row, num_candidates):\n",
    "    \"\"\"\n",
    "    Parse the table header row for the candidate names.\n",
    "    head_row - the header row element containing cells with the candidate names\n",
    "    num_candidates - the number of candidate columns in the \"Results_by_state\" table, including \"Other\"\n",
    "    returns: list of length num_candidates with the candidate names\n",
    "    \"\"\"\n",
    "    headings = []\n",
    "    for cell in head_row.find_all('th', attrs={'colspan': '3'}):\n",
    "        children = list(cell.children)\n",
    "        if len(children) == 3:\n",
    "            headings.append((children[0].strip(), children[2].strip()))\n",
    "        else:\n",
    "            headings.append((children[0], None))\n",
    "    headings = headings[:num_candidates]\n",
    "    headings.append(('Total', None))\n",
    "    return headings"
   ]
  },
  {
   "cell_type": "code",
   "execution_count": 5,
   "metadata": {
    "collapsed": false
   },
   "outputs": [],
   "source": [
    "def get_table_rows(year, num_candidates):\n",
    "    \"\"\"\n",
    "    Scrape the U.S. Presidential election Wikipedia page for the results by state. header rows of the \n",
    "\n",
    "    year - string containing 4-digit election year\n",
    "    num_candidates - the number of candidate columns in the \"Results_by_state\" table, including \"Other\"\n",
    "    returns: a tuple; first element is a list of length num_candidates with the candidate names; second\n",
    "             element is a list of the table row elements needing to be parsed for the vote counts\n",
    "    \"\"\"\n",
    "    page = BeautifulSoup(urllib.request.urlopen(\n",
    "            'https://en.wikipedia.org/wiki/United_States_presidential_election,_'+str(year)).read(), \"html.parser\")\n",
    "    header = page.find('span', id='Results_by_state').parent\n",
    "    table_container = header.find_next_sibling('div')\n",
    "    table = table_container.table\n",
    "    if table is None:\n",
    "        table_container = table_container.find_next_sibling('div')\n",
    "        table = table_container.table\n",
    "    head_row = table.find('tr')\n",
    "    all_rows = list(table.find_all('tr'))\n",
    "    vote_rows = all_rows[2:]\n",
    "    return get_headings(head_row, num_candidates), vote_rows"
   ]
  },
  {
   "cell_type": "code",
   "execution_count": 6,
   "metadata": {
    "collapsed": true
   },
   "outputs": [],
   "source": [
    "def clean_and_convert(count_text):\n",
    "    \"\"\"\n",
    "    Clean up vote count text, and return an actual number.\n",
    "    count_text - the text from a vote count table cell\n",
    "    returns: int representing number of votes (N/A or blank imply zero)\n",
    "    \"\"\"\n",
    "    clean = count_text.strip().replace(',','').replace('.', '').replace('-','0').replace(\n",
    "                'N/A', '0').replace('★', '').replace('–', '').replace('−', '')\n",
    "    return int(clean) if len(clean) else 0"
   ]
  },
  {
   "cell_type": "code",
   "execution_count": 7,
   "metadata": {
    "collapsed": true
   },
   "outputs": [],
   "source": [
    "def file_for_year(year):\n",
    "    return 'state-vote-data-{}.csv'.format(year)"
   ]
  },
  {
   "cell_type": "code",
   "execution_count": 8,
   "metadata": {
    "collapsed": false
   },
   "outputs": [],
   "source": [
    "def read_in_data(year, num_candidates, total_column):\n",
    "    \"\"\"\n",
    "    Scrape the U.S. Presidential election Wikipedia for the given year. Requires a couple of numbers describing the\n",
    "    shape of the table.\n",
    "\n",
    "    year - string containing 4-digit election year\n",
    "    num_candidates - the number of candidate columns in the \"Results_by_state\" table, including \"Other\"\n",
    "    total_column - the column number that contains the total votes for each state/district, counting from zero\n",
    "    returns: a Pandas DataFrame, indexed by state/district, with columns for each candidate, total vote, and\n",
    "             state total electoral college votes\n",
    "    \"\"\"\n",
    "    filename = file_for_year(year)\n",
    "    if isfile(filename):\n",
    "        return pd.read_csv(filename, index_col=0)\n",
    "    headings, vote_rows = get_table_rows(year, num_candidates)\n",
    "    data = OrderedDict()\n",
    "    columns_with_vote_counts = list(range(2, 3*num_candidates, 3))\n",
    "    columns_with_vote_counts.append(total_column)\n",
    "    abbr_column = total_column + 1\n",
    "    vote_rows = list(zip(vote_rows, ['td'] * len(vote_rows)))\n",
    "    vote_rows[-1] = (vote_rows[-1][0], 'th') # last row uses <th> instead of <td>\n",
    "    for row, cell_type in vote_rows:\n",
    "        cells = list(row.find_all(cell_type))\n",
    "        abbr = cells[abbr_column].string.strip()\n",
    "        if len(abbr)==2 or len(abbr)==6:\n",
    "            abbr = abbr[:2]\n",
    "            data[abbr] = [clean_and_convert(cells[i].text) for i in columns_with_vote_counts]\n",
    "    abbreviations  = []\n",
    "    for h in headings:\n",
    "        abbreviations.append(''.join([s[0] for s in h[0].split()]))\n",
    "    vote_data = pd.DataFrame.from_dict(data, orient='index')\n",
    "    vote_data.columns=abbreviations\n",
    "    vote_data['E'] = ec_votes[year]\n",
    "    return vote_data"
   ]
  },
  {
   "cell_type": "code",
   "execution_count": 9,
   "metadata": {
    "collapsed": true
   },
   "outputs": [],
   "source": [
    "vote_data = OrderedDict()\n",
    "shapes = [(2000, 8, 28), (2004, 7, 25), (2008, 7, 25), (2012, 5, 19), (2016, 6, 22)]"
   ]
  },
  {
   "cell_type": "code",
   "execution_count": 10,
   "metadata": {
    "collapsed": false
   },
   "outputs": [
    {
     "name": "stdout",
     "output_type": "stream",
     "text": [
      "         GWB        AG       RN      PB      HB     HP     JH      O  \\\n",
      "WA   1108864   1247652   103002    7171   13135   1989   2927   2693   \n",
      "WV    336475    295497    10680    3169    1912     23    367      1   \n",
      "WI   1237279   1242987    94070   11471    6640   2042    853   3265   \n",
      "WY    147947     60481     4625    2724    1443    720    411      0   \n",
      "US  50456002  50999897  2882955  448895  384431  98020  83714  51186   \n",
      "\n",
      "            T    E  \n",
      "WA    2487433    9  \n",
      "WV     648124    3  \n",
      "WI    2598607    9  \n",
      "WY     218351    1  \n",
      "US  105405100  436  \n",
      "         GWB        JK      RN      MB      MP      DC      O          T    E\n",
      "WA   1304894   1510201   23283   11955    3922    2974   1855    2859084    9\n",
      "WV    423778    326541    4063    1405      82       5     13     755887    3\n",
      "WI   1478120   1489504   16390    6464       0    2661   3868    2997007    8\n",
      "WY    167629     70776    2741    1171     631       0    480     243428    1\n",
      "US  62040610  59028444  465151  397265  143630  119859  99887  122294846  436\n",
      "          BO        JM      RN      BB      CB      CM       O          T    E\n",
      "WA   1750848   1229216   29489   12728    9432    3819    1346    3036878    9\n",
      "WV    303857    397466    7219       0    2465    2355      89     713451    3\n",
      "WI   1677211   1262393   17605    8858    5072    4216    8062    2983417    8\n",
      "WY     82868    164958    2525    1594    1192       0    1521     254658    1\n",
      "US  69498516  59948323  739034  523715  199750  161797  242685  131313820  436\n",
      "          BO        MR       GJ      JS       O          T    E\n",
      "WA   1755396   1290670    42202   20928   16320    3125516   10\n",
      "WV    238269    417655     6302    4406    3806     670438    3\n",
      "WI   1620985   1407966    20439    7665   11379    3068434    8\n",
      "WY     69286    170962     5326       0    3487     249061    1\n",
      "US  65915795  60933504  1275971  469627  490512  129085409  436\n",
      "          HC        DT       GJ       JS      EM        O          T    E\n",
      "WA   1742718   1221747   160879    58417       0    25453    3209214   10\n",
      "WV    188794    489371    23004     8075       0     3807     713051    3\n",
      "WI   1382536   1405284   106674    31072   11855    38729    2976150    8\n",
      "WY     55973    174419    13287     2515       0     9655     255849    1\n",
      "US  65853625  62985106  4489233  1457222  729824  1583591  137098601  436\n"
     ]
    }
   ],
   "source": [
    "for year, num_candidates, total_column in shapes:\n",
    "    vote_data[year] = read_in_data(year, num_candidates, total_column)\n",
    "    print(vote_data[year].tail())"
   ]
  },
  {
   "cell_type": "code",
   "execution_count": 11,
   "metadata": {
    "collapsed": false
   },
   "outputs": [
    {
     "data": {
      "text/plain": [
       "AL      7\n",
       "AK      1\n",
       "AZ      9\n",
       "AR      4\n",
       "CA     53\n",
       "CO      7\n",
       "CT      5\n",
       "DE      1\n",
       "DC      1\n",
       "FL     27\n",
       "GA     14\n",
       "HI      2\n",
       "ID      2\n",
       "IL     18\n",
       "IN      9\n",
       "IA      4\n",
       "KS      4\n",
       "KY      6\n",
       "LA      6\n",
       "ME      2\n",
       "MD      8\n",
       "MA      9\n",
       "MI     14\n",
       "MN      8\n",
       "MS      4\n",
       "MO      8\n",
       "MT      1\n",
       "NE      3\n",
       "NV      4\n",
       "NH      2\n",
       "NJ     12\n",
       "NM      3\n",
       "NY     27\n",
       "NC     13\n",
       "ND      1\n",
       "OH     16\n",
       "OK      5\n",
       "OR      5\n",
       "PA     18\n",
       "RI      2\n",
       "SC      7\n",
       "SD      1\n",
       "TN      9\n",
       "TX     36\n",
       "UT      4\n",
       "VT      1\n",
       "VA     11\n",
       "WA     10\n",
       "WV      3\n",
       "WI      8\n",
       "WY      1\n",
       "US    436\n",
       "Name: E, dtype: int64"
      ]
     },
     "execution_count": 11,
     "metadata": {},
     "output_type": "execute_result"
    }
   ],
   "source": [
    "vote_data[2016].E"
   ]
  },
  {
   "cell_type": "markdown",
   "metadata": {},
   "source": [
    "## Export data"
   ]
  },
  {
   "cell_type": "code",
   "execution_count": 12,
   "metadata": {
    "collapsed": false
   },
   "outputs": [],
   "source": [
    "def export_data(year, df):\n",
    "    filename = 'state-vote-data-{}.csv'.format(year)\n",
    "    df.to_csv(filename, sep=',')\n",
    "\n",
    "for year, data in vote_data.items():\n",
    "    export_data(year, data)"
   ]
  },
  {
   "cell_type": "code",
   "execution_count": 13,
   "metadata": {
    "collapsed": false
   },
   "outputs": [],
   "source": [
    "def partial_result_from_dict(data, category):\n",
    "    \"\"\"\n",
    "    Prepare part of the final result from the given data, adding a category column to the index.\n",
    "    data - a dict-like object mapping states/districts to counts with the partial result, \n",
    "           e.g., {'state abbr': int_count, ... }\n",
    "    category - a string labelling the type of data, which is placed in a MultiIndex\n",
    "    \"\"\"\n",
    "    result = pd.DataFrame.from_dict(data, orient='index')\n",
    "    result.index.name = 'State'\n",
    "    result['Category'] = category\n",
    "    result.set_index('Category', append=True, inplace=True)\n",
    "    return result"
   ]
  },
  {
   "cell_type": "code",
   "execution_count": 14,
   "metadata": {
    "collapsed": false
   },
   "outputs": [],
   "source": [
    "def fair_efficient(df):\n",
    "    \"\"\"\n",
    "    Compute a DataFrame representing fair and efficient allocation of Electoral College votes, and the\n",
    "    number of wasted popular votes if fair and efficient allocation is used.\n",
    "\n",
    "    df - a Pandas DataFrame, indexed by state/district, with columns for each candidate, total vote, and\n",
    "         state total electoral college votes\n",
    "    returns: a DataFrame multi-indexed by state/district and data category with candidate columns; data category = 'EC'\n",
    "             gives Electoral College allocations ; data category = 'Wasted' gives wasted popular votes, i.e., votes that\n",
    "             didn't end up counting towards an Elector\n",
    "    \"\"\"\n",
    "    ec_votes = OrderedDict()\n",
    "    wasted = OrderedDict()\n",
    "    for i in range(51):\n",
    "        st = df.iloc[i]\n",
    "        c = OrderedDict(st.loc[:'O'])\n",
    "        e = OrderedDict()\n",
    "        r = {}\n",
    "        E = st.loc['E']\n",
    "        V = st.loc['T']\n",
    "        if V == 0:\n",
    "            V = sum(list(st)[:6])\n",
    "        for candidate, pop_votes in c.items():\n",
    "            e[candidate] = floor(E * pop_votes / V)\n",
    "            r[candidate] = ceil(pop_votes - V * e[candidate] / E)\n",
    "        r = OrderedDict(sorted(r.items(), key=itemgetter(1), reverse=True))\n",
    "        remainder = E - sum(e.values())\n",
    "        for candidate in r.keys():\n",
    "            if candidate != 'O': # not mappable to a single candidate\n",
    "                e[candidate] += 1\n",
    "                remainder -= 1\n",
    "                r[candidate] = 0\n",
    "                if remainder == 0:\n",
    "                    break\n",
    "        ec_votes[st.name] = e\n",
    "        wasted[st.name] = r\n",
    "    ec_votes = partial_result_from_dict(ec_votes, 'EC')\n",
    "    wasted = partial_result_from_dict(wasted, 'Wasted')\n",
    "    result = pd.concat([ec_votes, wasted])\n",
    "    result.sort_index(level=['State', 'Category'], inplace=True)\n",
    "    return result"
   ]
  },
  {
   "cell_type": "code",
   "execution_count": 15,
   "metadata": {
    "collapsed": true
   },
   "outputs": [],
   "source": [
    "def wta(df):\n",
    "    \"\"\"\n",
    "    Compute a DataFrame representing winner-take-all allocation (WTA) of Electoral College votes, and the\n",
    "    number of wasted popular votes if WTA allocation is used.\n",
    "\n",
    "    df - a Pandas DataFrame, indexed by state/district, with columns for each candidate, total vote, and\n",
    "         state total electoral college votes\n",
    "    returns: a DataFrame multi-indexed by state/district and data category with candidate columns; data category = 'EC'\n",
    "             gives Electoral College allocations ; data category = 'Wasted' gives wasted popular votes, i.e., votes that\n",
    "             didn't end up counting towards an Elector\n",
    "    \"\"\"\n",
    "    ec_votes = OrderedDict()\n",
    "    wasted = OrderedDict()\n",
    "    for i in range(51):\n",
    "        st = df.iloc[i]\n",
    "        c = st.loc[:'O']\n",
    "        e = pd.Series(0, c.index)\n",
    "        r = c.copy()\n",
    "        E = st.loc['E']\n",
    "        V = st.loc['T']\n",
    "        if V == 0:\n",
    "            V = sum(list(st)[:6])\n",
    "        idxmax = c.idxmax()\n",
    "        e[idxmax] = E\n",
    "        r[idxmax] = 0\n",
    "        r[idxmax] = c.max() - r.max() - 1\n",
    "        ec_votes[st.name] = e\n",
    "        wasted[st.name] = r\n",
    "    ec_votes = partial_result_from_dict(ec_votes, 'EC')\n",
    "    wasted = partial_result_from_dict(wasted, 'Wasted')\n",
    "    result = pd.concat([ec_votes, wasted])\n",
    "    result.sort_index(level=['State', 'Category'], inplace=True)\n",
    "    return result"
   ]
  },
  {
   "cell_type": "code",
   "execution_count": 16,
   "metadata": {
    "collapsed": false
   },
   "outputs": [],
   "source": [
    "def print_ec_summary(year, df, fn, show_state_data=False):\n",
    "    \"\"\"\n",
    "    Print a useful summary of the calculations. By default, suppresses outputing the full dataset.\n",
    "\n",
    "    year - string containing 4-digit election year\n",
    "    df - a Pandas DataFrame, indexed by state/district, with columns for each candidate, total vote, and\n",
    "         state total electoral college votes\n",
    "    fn - used to calculate allocation \n",
    "    show_state_data - whether to show the full computed results by state/district; defaults to False\n",
    "    \"\"\"\n",
    "    pd.options.display.max_rows = 102\n",
    "    print(year)\n",
    "    print('====')\n",
    "    result = fn(df)\n",
    "    if show_state_data:\n",
    "        print('Results by State:')\n",
    "        print(result)\n",
    "        print()\n",
    "    ecsum = result.loc[(slice(None), ['EC']),:].sum()\n",
    "    print('Electoral College Tally:\\n{}\\nTotal:{}\\n'.format(ecsum, ecsum.sum()))\n",
    "    wsum = result.loc[(slice(None), ['Wasted']),:].sum()\n",
    "    print('Wasted popular votes:\\n{}\\nTotal: {}'.format(wsum, wsum.sum()))\n",
    "    print('')\n",
    "    print()"
   ]
  },
  {
   "cell_type": "code",
   "execution_count": 17,
   "metadata": {
    "collapsed": false
   },
   "outputs": [
    {
     "name": "stdout",
     "output_type": "stream",
     "text": [
      "2000\n",
      "====\n",
      "Electoral College Tally:\n",
      "GWB    211\n",
      "AG     225\n",
      "RN       0\n",
      "PB       0\n",
      "HB       0\n",
      "HP       0\n",
      "JH       0\n",
      "O        0\n",
      "dtype: int64\n",
      "Total:436\n",
      "\n",
      "Wasted popular votes:\n",
      "GWB    28617825\n",
      "AG     28317499\n",
      "RN      2882955\n",
      "PB       448895\n",
      "HB       384431\n",
      "HP        98020\n",
      "JH        83714\n",
      "O         51186\n",
      "dtype: int64\n",
      "Total: 60884525\n",
      "\n",
      "\n",
      "2000\n",
      "====\n",
      "Electoral College Tally:\n",
      "AG     216\n",
      "GWB    212\n",
      "HB       0\n",
      "HP       0\n",
      "JH       0\n",
      "O        0\n",
      "PB       0\n",
      "RN       8\n",
      "dtype: int64\n",
      "Total:436\n",
      "\n",
      "Wasted popular votes:\n",
      "AG     1289541\n",
      "GWB    1384086\n",
      "HB      384431\n",
      "HP       98020\n",
      "JH       83714\n",
      "O        51186\n",
      "PB      448895\n",
      "RN     1646514\n",
      "dtype: int64\n",
      "Total: 5386387\n",
      "\n",
      "\n",
      "2004\n",
      "====\n",
      "Electoral College Tally:\n",
      "GWB    224\n",
      "JK     212\n",
      "RN       0\n",
      "MB       0\n",
      "MP       0\n",
      "DC       0\n",
      "O        0\n",
      "dtype: int64\n",
      "Total:436\n",
      "\n",
      "Wasted popular votes:\n",
      "GWB    35491836\n",
      "JK     32307540\n",
      "RN       465151\n",
      "MB       397265\n",
      "MP       143630\n",
      "DC       119859\n",
      "O         99887\n",
      "dtype: int64\n",
      "Total: 69025168\n",
      "\n",
      "\n",
      "2004\n",
      "====\n",
      "Electoral College Tally:\n",
      "DC       0\n",
      "GWB    225\n",
      "JK     211\n",
      "MB       0\n",
      "MP       0\n",
      "O        0\n",
      "RN       0\n",
      "dtype: int64\n",
      "Total:436\n",
      "\n",
      "Wasted popular votes:\n",
      "DC      119859\n",
      "GWB    1648889\n",
      "JK     2017699\n",
      "MB      397265\n",
      "MP      143630\n",
      "O        99887\n",
      "RN      465151\n",
      "dtype: int64\n",
      "Total: 4892380\n",
      "\n",
      "\n",
      "2008\n",
      "====\n",
      "Electoral College Tally:\n",
      "BO    306\n",
      "JM    130\n",
      "RN      0\n",
      "BB      0\n",
      "CB      0\n",
      "CM      0\n",
      "O       0\n",
      "dtype: int64\n",
      "Total:436\n",
      "\n",
      "Wasted popular votes:\n",
      "BO    30576671\n",
      "JM    43854738\n",
      "RN      739034\n",
      "BB      523715\n",
      "CB      199750\n",
      "CM      161797\n",
      "O       242685\n",
      "dtype: int64\n",
      "Total: 76298390\n",
      "\n",
      "\n",
      "2008\n",
      "====\n",
      "Electoral College Tally:\n",
      "BB      0\n",
      "BO    234\n",
      "CB      0\n",
      "CM      0\n",
      "JM    201\n",
      "O       0\n",
      "RN      1\n",
      "dtype: int64\n",
      "Total:436\n",
      "\n",
      "Wasted popular votes:\n",
      "BB     523715\n",
      "BO    1905783\n",
      "CB     199750\n",
      "CM     161797\n",
      "JM    2014234\n",
      "O      242685\n",
      "RN     630653\n",
      "dtype: int64\n",
      "Total: 5678617\n",
      "\n",
      "\n",
      "2012\n",
      "====\n",
      "Electoral College Tally:\n",
      "BO    278\n",
      "MR    158\n",
      "GJ      0\n",
      "JS      0\n",
      "O       0\n",
      "dtype: int64\n",
      "Total:436\n",
      "\n",
      "Wasted popular votes:\n",
      "BO    30066197\n",
      "MR    42650154\n",
      "GJ     1275971\n",
      "JS      469627\n",
      "O       490512\n",
      "dtype: int64\n",
      "Total: 74952461\n",
      "\n",
      "\n",
      "2012\n",
      "====\n",
      "Electoral College Tally:\n",
      "BO    225\n",
      "GJ      1\n",
      "JS      0\n",
      "MR    210\n",
      "O       0\n",
      "dtype: int64\n",
      "Total:436\n",
      "\n",
      "Wasted popular votes:\n",
      "BO    1773681\n",
      "GJ    1132750\n",
      "JS     469627\n",
      "MR    1748488\n",
      "O      490512\n",
      "dtype: int64\n",
      "Total: 5615058\n",
      "\n",
      "\n",
      "2016\n",
      "====\n",
      "Electoral College Tally:\n",
      "HC    191\n",
      "DT    245\n",
      "GJ      0\n",
      "JS      0\n",
      "EM      0\n",
      "O       0\n",
      "dtype: int64\n",
      "Total:436\n",
      "\n",
      "Wasted popular votes:\n",
      "HC    43676564\n",
      "DT    30526009\n",
      "GJ     4488919\n",
      "JS     1457044\n",
      "EM      723675\n",
      "O       950261\n",
      "dtype: int64\n",
      "Total: 81822472\n",
      "\n",
      "\n",
      "2016\n",
      "====\n",
      "Electoral College Tally:\n",
      "DT    207\n",
      "EM      1\n",
      "GJ     10\n",
      "HC    217\n",
      "JS      1\n",
      "O       0\n",
      "dtype: int64\n",
      "Total:436\n",
      "\n",
      "Wasted popular votes:\n",
      "DT    1070660\n",
      "EM     479990\n",
      "GJ    2573663\n",
      "HC    1335691\n",
      "JS    1189467\n",
      "O      950261\n",
      "dtype: int64\n",
      "Total: 7599732\n",
      "\n",
      "\n"
     ]
    }
   ],
   "source": [
    "for year, data in vote_data.items():\n",
    "    print_ec_summary(year, data, wta)\n",
    "    print_ec_summary(year, data, fair_efficient)"
   ]
  },
  {
   "cell_type": "code",
   "execution_count": 18,
   "metadata": {
    "collapsed": false
   },
   "outputs": [
    {
     "data": {
      "image/png": "[encoded data removed]",
      "text/plain": [
       "<matplotlib.figure.Figure at 0x7fd5f7461278>"
      ]
     },
     "metadata": {},
     "output_type": "display_data"
    }
   ],
   "source": [
    "def plot_wasted():\n",
    "    colors = {2000: 'red', 2004:'magenta', 2008:'blue', 2012:'cyan', 2016:'black'}\n",
    "    plt.title('Wasted Votes')\n",
    "    plt.xlabel(\"Fair, Efficient\")\n",
    "    plt.ylabel(\"Winner-Take-All\")\n",
    "    for year, data in vote_data.items():\n",
    "        result_wta = wta(data)\n",
    "        fe = fair_efficient(data)\n",
    "        few = fe.loc[(slice(None), ['Wasted']),:].sum(axis=1)\n",
    "        wtaw = result_wta.loc[(slice(None), ['Wasted']),:].sum(axis=1)\n",
    "        plt.scatter(x=few, y=wtaw, color=colors[year], label=str(year), alpha=0.7)\n",
    "    plt.legend()\n",
    "    plt.ticklabel_format(style='plain')\n",
    "plot_wasted()"
   ]
  },
  {
   "cell_type": "code",
   "execution_count": 19,
   "metadata": {
    "collapsed": false
   },
   "outputs": [
    {
     "data": {
      "image/png": "[encoded data removed]",
      "text/plain": [
       "<matplotlib.figure.Figure at 0x7fd5f7461048>"
      ]
     },
     "metadata": {},
     "output_type": "display_data"
    }
   ],
   "source": [
    "def plot_wasted_sum():\n",
    "    colors = {2000: 'red', 2004:'magenta', 2008:'blue', 2012:'cyan', 2016:'black'}\n",
    "    plt.title('Wasted Votes')\n",
    "    plt.xlabel(\"Fair, Efficient\")\n",
    "    plt.ylabel(\"Winner-Take-All\")\n",
    "    for year, data in vote_data.items():\n",
    "        result_wta = wta(data)\n",
    "        fe = fair_efficient(data)\n",
    "        few = fe.loc[(slice(None), ['Wasted']),:].sum(axis=1).sum()\n",
    "        wtaw = result_wta.loc[(slice(None), ['Wasted']),:].sum(axis=1).sum()\n",
    "        plt.scatter(x=few, y=wtaw, color=colors[year], label=str(year), alpha=0.7)\n",
    "    plt.legend()\n",
    "    plt.ticklabel_format(style='plain')\n",
    "plot_wasted_sum()"
   ]
  },
  {
   "cell_type": "code",
   "execution_count": 20,
   "metadata": {
    "collapsed": false
   },
   "outputs": [
    {
     "data": {
      "image/png": "[encoded data removed]",
      "text/plain": [
       "<matplotlib.figure.Figure at 0x7fd5f4f6d588>"
      ]
     },
     "metadata": {},
     "output_type": "display_data"
    }
   ],
   "source": [
    "def plot_waste_reduction_versus_votes_cast(include_years=None):\n",
    "    colors = {2000: 'red', 2004:'magenta', 2008:'blue', 2012:'cyan', 2016:'black'}\n",
    "    plt.title('Waste Reduction versus Votes Cast by State')\n",
    "    plt.xlabel(\"Votes Cast\")\n",
    "    plt.ylabel(\"Waste Reduction [%]\")\n",
    "    plt.xscale('log')\n",
    "    plt.yscale('log')\n",
    "    for year, data in vote_data.items():\n",
    "        if include_years is None or year in include_years:\n",
    "            result_wta = wta(data)\n",
    "            fe = fair_efficient(data)\n",
    "            few = fe.loc[(slice(None), ['Wasted']),:].sum(axis=1)\n",
    "            wtaw = result_wta.loc[(slice(None), ['Wasted']),:].sum(axis=1)\n",
    "            wr = (1.0 - few/wtaw) * 100.0\n",
    "            votes = data['T'].drop(data.index[[51]])\n",
    "            plt.scatter(x=votes, y=wr, color=colors[year], label=str(year), alpha=0.7)\n",
    "    plt.legend()\n",
    "#     plt.ticklabel_format(style='sci')\n",
    "plot_waste_reduction_versus_votes_cast()"
   ]
  },
  {
   "cell_type": "code",
   "execution_count": 21,
   "metadata": {
    "collapsed": false
   },
   "outputs": [
    {
     "data": {
      "image/png": "[encoded data removed]",
      "text/plain": [
       "<matplotlib.figure.Figure at 0x7fd5f4b75860>"
      ]
     },
     "metadata": {},
     "output_type": "display_data"
    }
   ],
   "source": [
    "plot_waste_reduction_versus_votes_cast([2000, 2016])"
   ]
  },
  {
   "cell_type": "code",
   "execution_count": 22,
   "metadata": {
    "collapsed": false
   },
   "outputs": [
    {
     "data": {
      "image/png": "[encoded data removed]",
      "text/plain": [
       "<matplotlib.figure.Figure at 0x7fd5f7472390>"
      ]
     },
     "metadata": {},
     "output_type": "display_data"
    }
   ],
   "source": [
    "plot_waste_reduction_versus_votes_cast([2008, 2012])"
   ]
  },
  {
   "cell_type": "code",
   "execution_count": 23,
   "metadata": {
    "collapsed": false
   },
   "outputs": [
    {
     "data": {
      "image/png": "[encoded data removed]",
      "text/plain": [
       "<matplotlib.figure.Figure at 0x7fd5f743db00>"
      ]
     },
     "metadata": {},
     "output_type": "display_data"
    }
   ],
   "source": [
    "plot_waste_reduction_versus_votes_cast([2000, 2004])"
   ]
  }
 ],
 "metadata": {
  "anaconda-cloud": {},
  "kernelspec": {
   "display_name": "Python 3",
   "language": "python",
   "name": "python3"
  },
  "language_info": {
   "codemirror_mode": {
    "name": "ipython",
    "version": 3
   },
   "file_extension": ".py",
   "mimetype": "text/x-python",
   "name": "python",
   "nbconvert_exporter": "python",
   "pygments_lexer": "ipython3",
   "version": "3.6.0"
  }
 },
 "nbformat": 4,
 "nbformat_minor": 1
}
