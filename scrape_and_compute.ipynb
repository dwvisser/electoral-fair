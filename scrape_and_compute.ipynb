{
 "cells": [
  {
   "cell_type": "code",
   "execution_count": 1,
   "metadata": {
    "collapsed": true
   },
   "outputs": [],
   "source": [
    "import pandas as pd\n",
    "from bs4 import BeautifulSoup\n",
    "import urllib\n",
    "from collections import OrderedDict"
   ]
  },
  {
   "cell_type": "markdown",
   "metadata": {},
   "source": [
    "## Scrape Wikipedia Page"
   ]
  },
  {
   "cell_type": "code",
   "execution_count": 2,
   "metadata": {
    "collapsed": false
   },
   "outputs": [],
   "source": [
    "# list of state abbreviations\n",
    "states = ['AL','AK','AZ','AR','CA','CO','CT','DC','DE','FL',\n",
    "          'GA','HI','ID','IL','IN','IA','KS','KY','LA','ME',\n",
    "          'MD','MA','MI','MN','MS','MO','MT','NE','NV','NH',\n",
    "          'NJ','NM','NY','NC','ND','OH','OK','OR','PA','RI',\n",
    "          'SC','SD','TN','TX','UT','VT','VA','WA','WV','WI','WY', 'US']\n",
    "\n",
    "ec_votes=[9,  3,  11, 6,  55, 9,  7,  3,  3,  29,\n",
    "          16, 4,  4,  20, 11, 6,  6,  8,  8,  4,\n",
    "          10, 11, 16, 10, 6,  10, 3,  5,  6,  4,\n",
    "          14, 5,  29, 15, 3,  18, 7,  7,  20, 4,\n",
    "          9,  3,  11, 38, 6,  3,  13, 12, 5,  10, 3, 538]\n",
    "\n",
    "ec_votes_dict = OrderedDict()\n",
    "for i in range(len(states)):\n",
    "    ec_votes_dict[states[i]] = ec_votes[i]"
   ]
  },
  {
   "cell_type": "code",
   "execution_count": 3,
   "metadata": {
    "collapsed": false
   },
   "outputs": [],
   "source": [
    "url = 'https://en.wikipedia.org/wiki/United_States_presidential_election,_2012'\n",
    "page = BeautifulSoup(urllib.request.urlopen(url).read(), \"html.parser\")"
   ]
  },
  {
   "cell_type": "code",
   "execution_count": 4,
   "metadata": {
    "collapsed": false
   },
   "outputs": [],
   "source": [
    "header = page.find('span', id='Results_by_state').parent\n",
    "table = header.find_next_sibling('div').table\n",
    "head_row = table.find('tr')\n",
    "headings = []\n",
    "for cell in head_row.find_all('th', attrs={'colspan': '3'}):\n",
    "    children = list(cell.children)\n",
    "    if len(children) == 3:\n",
    "        headings.append((children[0].strip(), children[2].strip()))\n",
    "    else:\n",
    "        headings.append((children[0], None))\n",
    "headings.append(('Total', None))\n",
    "data = OrderedDict()\n",
    "all_rows = list(table.find_all('tr'))\n",
    "columns_with_vote_counts = list(range(2,15,3))\n",
    "columns_with_vote_counts.append(19)\n",
    "for row in all_rows[2:-1]:\n",
    "    cells = list(row.find_all('td'))\n",
    "    abbr = cells[20].string.strip()\n",
    "    if len(abbr)==2 or len(abbr)==6:\n",
    "        abbr = abbr[:2]\n",
    "        data[abbr] = [cells[i].text.strip().replace(',','').replace('.', '').replace('-','0').replace('N/A', '0')\n",
    "                      for i in columns_with_vote_counts]\n",
    "cells = all_rows[-1].find_all('th')\n",
    "abbr = cells[20].string.strip()\n",
    "data[abbr] = [cells[i].text.strip().replace(',','').replace('-','0') for i in columns_with_vote_counts]\n",
    "for district, votes in data.items():\n",
    "    data[district] = [int(i) if len(i) else 0 for i in votes]"
   ]
  },
  {
   "cell_type": "code",
   "execution_count": 5,
   "metadata": {
    "collapsed": false
   },
   "outputs": [
    {
     "data": {
      "text/plain": [
       "[('Barack Obama', 'Democratic'),\n",
       " ('Mitt Romney', 'Republican'),\n",
       " ('Gary Johnson', 'Libertarian'),\n",
       " ('Jill Stein', 'Green'),\n",
       " ('Others', None),\n",
       " ('Total', None)]"
      ]
     },
     "execution_count": 5,
     "metadata": {},
     "output_type": "execute_result"
    }
   ],
   "source": [
    "headings"
   ]
  },
  {
   "cell_type": "code",
   "execution_count": 6,
   "metadata": {
    "collapsed": false
   },
   "outputs": [
    {
     "name": "stdout",
     "output_type": "stream",
     "text": [
      "          BO        MR       GJ      JS       O          T    E\n",
      "AL    795696   1255925    12328    3397    6992    2074338    9\n",
      "AK    122640    164676     7392    2917    2870     300495    3\n",
      "AZ   1025232   1233654    32100    7816     452    2299254   11\n",
      "AR    394409    647744    16276    9305    1734    1069468    6\n",
      "CA   7854285   4839958   143221   85638  115445   13038547   55\n",
      "CO   1323102   1185243    35545    7508   18123    2569520    9\n",
      "CT    905083    634892    12580     863    5542    1558960    7\n",
      "DE    242584    165484     3882    1940      31     413921    3\n",
      "DC    267070     21381     2083    2458     772     293764    3\n",
      "FL   4237756   4163447    44726    8947   19303    8474179   29\n",
      "GA   1773827   2078688    45324    1516     695    3900050   16\n",
      "HI    306658    121015     3840    3184       0     434697    4\n",
      "ID    212787    420911     9453    4402    4721     652274    4\n",
      "IL   3019512   2135216    56229   30222     835    5242014   20\n",
      "IN   1152887   1420543    50111     625     368    2624534   11\n",
      "IA    822544    730617    12926    3769   12324    1582180    6\n",
      "KS    440726    692634    20456     714    5441    1159971    6\n",
      "KY    679370   1087190    17063    6337    7252    1797212    8\n",
      "LA    809141   1152262    18157    6978    7527    1994065    8\n",
      "ME    401306    292276     9352    8119    2127     713180    4\n",
      "MD   1677844    971869    30195   17110   10309    2707327   10\n",
      "MA   1921290   1188314    30920   20691    6552    3167767   11\n",
      "MI   2564569   2115256     7774   21897   21465    4730961   16\n",
      "MN   1546167   1320225    35098   13023   22048    2936561   10\n",
      "MS    562949    710746     6676    1588    3625    1285584    6\n",
      "MO   1223796   1482440    43151       0    7936    2757323   10\n",
      "MT    201839    267928    14165       0     116     484048    3\n",
      "NE    302081    475064    11109       0    6125     794379    5\n",
      "NV    531373    463567    10968       0    9010    1014918    6\n",
      "NH    369561    329918     8212     324    2957     710972    4\n",
      "NJ   2125101   1477568    21045    9888    6690    3640292   14\n",
      "NM    415335    335788    27788    2691    2156     783758    5\n",
      "NY   4485741   2490431    47256   39982   17749    7081159   29\n",
      "NC   2178391   2270395    44515       0   12071    4505372   15\n",
      "ND    124827    188163     5231    1361    3045     322627    3\n",
      "OH   2827709   2661437    49493   18573   23635    5580847   18\n",
      "OK    443547    891325        0       0       0    1334872    7\n",
      "OR    970488    754175    24089   19427   21091    1789270    7\n",
      "PA   2990274   2680434    49991   21341   11630    5753670   20\n",
      "RI    279677    157204     4388    2421    2359     446049    4\n",
      "SC    865941   1071645    16321    5446    4765    1964118    9\n",
      "SD    145039    210610     5795       0    2371     363815    3\n",
      "TN    960709   1462330    18623    6515   10400    2458577   11\n",
      "TX   3308124   4569843    88580   24657    2647    7993851   38\n",
      "UT    251813    740600    12572    3817    8638    1017440    6\n",
      "VT    199239     92698     3487     594    3272     299290    3\n",
      "VA   1971820   1822522    31216    8627   20304    3854489   13\n",
      "WA   1755396   1290670    42202   20928   16320    3125516   12\n",
      "WV    238269    417655     6302    4406    3806     670438    5\n",
      "WI   1620985   1407966    20439    7665   11379    3068434   10\n",
      "WY     69286    170962     5326       0    3487     249061    3\n",
      "US  65915795  60933504  1275971  469627  490512  129085409  538\n"
     ]
    }
   ],
   "source": [
    "abbreviations  = []\n",
    "for h in headings:\n",
    "    abbreviations.append(''.join([s[0] for s in h[0].split()]))\n",
    "vote_data = pd.DataFrame.from_dict(data, orient='index')\n",
    "vote_data.columns=abbreviations\n",
    "vote_data['E'] = pd.DataFrame.from_dict(ec_votes_dict, orient='index')[0]\n",
    "print(vote_data)"
   ]
  },
  {
   "cell_type": "markdown",
   "metadata": {},
   "source": [
    "## Export data"
   ]
  },
  {
   "cell_type": "code",
   "execution_count": 7,
   "metadata": {
    "collapsed": false
   },
   "outputs": [],
   "source": [
    "filename = 'vote_data.csv'\n",
    "vote_data.to_csv(filename,sep=',')"
   ]
  },
  {
   "cell_type": "code",
   "execution_count": 8,
   "metadata": {
    "collapsed": false
   },
   "outputs": [
    {
     "name": "stdout",
     "output_type": "stream",
     "text": [
      "Electoral College Votes by State:\n",
      "    BO  MR  GJ  JS  O\n",
      "AK   1   2   0   0  0\n",
      "AL   4   5   0   0  0\n",
      "AR   2   4   0   0  0\n",
      "AZ   5   6   0   0  0\n",
      "CA  33  21   1   0  0\n",
      "CO   5   4   0   0  0\n",
      "CT   4   3   0   0  0\n",
      "DC   3   0   0   0  0\n",
      "DE   2   1   0   0  0\n",
      "FL  15  14   0   0  0\n",
      "GA   7   9   0   0  0\n",
      "HI   3   1   0   0  0\n",
      "IA   3   3   0   0  0\n",
      "ID   1   3   0   0  0\n",
      "IL  12   8   0   0  0\n",
      "IN   5   6   0   0  0\n",
      "KS   2   4   0   0  0\n",
      "KY   3   5   0   0  0\n",
      "LA   3   5   0   0  0\n",
      "MA   7   4   0   0  0\n",
      "MD   6   4   0   0  0\n",
      "ME   2   2   0   0  0\n",
      "MI   9   7   0   0  0\n",
      "MN   5   5   0   0  0\n",
      "MO   5   5   0   0  0\n",
      "MS   3   3   0   0  0\n",
      "MT   1   2   0   0  0\n",
      "NC   7   8   0   0  0\n",
      "ND   1   2   0   0  0\n",
      "NE   2   3   0   0  0\n",
      "NH   2   2   0   0  0\n",
      "NJ   8   6   0   0  0\n",
      "NM   3   2   0   0  0\n",
      "NV   3   3   0   0  0\n",
      "NY  19  10   0   0  0\n",
      "OH   9   9   0   0  0\n",
      "OK   2   5   0   0  0\n",
      "OR   4   3   0   0  0\n",
      "PA  11   9   0   0  0\n",
      "RI   3   1   0   0  0\n",
      "SC   4   5   0   0  0\n",
      "SD   1   2   0   0  0\n",
      "TN   4   7   0   0  0\n",
      "TX  16  22   0   0  0\n",
      "UT   2   4   0   0  0\n",
      "VA   7   6   0   0  0\n",
      "VT   2   1   0   0  0\n",
      "WA   7   5   0   0  0\n",
      "WI   5   5   0   0  0\n",
      "WV   2   3   0   0  0\n",
      "WY   1   2   0   0  0\n",
      "\n",
      "Wasted Popular Votes by State:\n",
      "       BO      MR     GJ       O     JS\n",
      "AK  22475       0   7392    2870   2917\n",
      "AL      0  103515  12328    6992   3397\n",
      "AR  37920       0  16276    1734   9305\n",
      "AZ      0       0  32100     452   7816\n",
      "CA  31157       0      0  115445  85638\n",
      "CO      0   43235  35545   18123   7508\n",
      "CT  14249       0  12580    5542    863\n",
      "DC      0   21381   2083     772   2458\n",
      "DE      0   27511   3882      31   1940\n",
      "FL      0   72465  44726   19303   8947\n",
      "GA  67556       0  45324     695   1516\n",
      "HI      0   12341   3840       0   3184\n",
      "IA  31454       0  12926   12324   3769\n",
      "ID  49719       0   9453    4721   4402\n",
      "IL      0   38411  56229     835  30222\n",
      "IN      0       0  50111     368    625\n",
      "KS  54069       0  20456    5441    714\n",
      "KY   5416       0  17063    7252   6337\n",
      "LA  61367       0  18157    7527   6978\n",
      "MA      0   36399  30920    6552  20691\n",
      "MD  53448       0  30195   10309  17110\n",
      "ME  44716       0   9352    2127   8119\n",
      "MI      0   45461   7774   21465  21897\n",
      "MN  77887       0  35098   22048  13023\n",
      "MO      0  103779  43151    7936      0\n",
      "MS      0   67954   6676    3625   1588\n",
      "MT  40490       0  14165     116      0\n",
      "NC  75885       0  44515   12071      0\n",
      "ND  17285       0   5231    3045   1361\n",
      "NE      0       0  11109    6125      0\n",
      "NH  14075       0   8212    2957    324\n",
      "NJ  44935       0  21045    6690   9888\n",
      "NM      0   22285  27788    2156   2691\n",
      "NV  23914       0  10968    9010      0\n",
      "NY      0   48653  47256   17749  39982\n",
      "OH  37286       0  49493   23635  18573\n",
      "OK  62155       0      0       0      0\n",
      "OR      0       0  24089   21091  19427\n",
      "PA      0   91283  49991   11630  21341\n",
      "RI      0   45692   4388    2359   2421\n",
      "SC      0       0  16321    4765   5446\n",
      "SD  23768       0   5795    2371      0\n",
      "TN  66681       0  18623   10400   6515\n",
      "TX      0       0  88580    2647  24657\n",
      "UT      0   62307  12572    8638   3817\n",
      "VA      0   43528  31216   20304   8627\n",
      "VT      0       0   3487    3272    594\n",
      "WA      0       0  42202   16320  20928\n",
      "WI  86768       0  20439   11379   7665\n",
      "WV      0   15393   6302    3806   4406\n",
      "WY      0    4922   5326    3487      0\n",
      "\n",
      "Electoral College Tally:\n",
      "BO    276\n",
      "MR    261\n",
      "GJ      1\n",
      "JS      0\n",
      "O       0\n",
      "dtype: int64\n",
      "\n",
      "Wasted popular votes:\n",
      "BO    1044675\n",
      "MR     906515\n",
      "GJ    1132750\n",
      "O      490512\n",
      "JS     469627\n",
      "dtype: int64\n"
     ]
    }
   ],
   "source": [
    "from math import ceil, floor\n",
    "from operator import itemgetter\n",
    "ec_votes = OrderedDict()\n",
    "wasted = OrderedDict()\n",
    "for i in range(51):\n",
    "    st = vote_data.iloc[i]\n",
    "    c = OrderedDict(st.loc['BO':'O'])\n",
    "    e = OrderedDict()\n",
    "    r = {}\n",
    "    E = st.loc['E']\n",
    "    V = st.loc['T']\n",
    "    if V == 0:\n",
    "        V = sum(list(st)[:6])\n",
    "    for candidate, pop_votes in c.items():\n",
    "        e[candidate] = floor(E * pop_votes / V)\n",
    "        r[candidate] = ceil(pop_votes - V * e[candidate] / E)\n",
    "    r = OrderedDict(sorted(r.items(), key=itemgetter(1), reverse=True))\n",
    "    remainder = E - sum(e.values())\n",
    "    for candidate in r.keys():\n",
    "        if candidate != 'O': # not mappable to a single candidate\n",
    "            e[candidate] += 1\n",
    "            remainder -= 1\n",
    "            r[candidate] = 0\n",
    "            if remainder == 0:\n",
    "                break\n",
    "    ec_votes[st.name] = e\n",
    "    wasted[st.name] = r\n",
    "ec_votes = pd.DataFrame.from_dict(ec_votes, orient='index')\n",
    "wasted = pd.DataFrame.from_dict(wasted, orient='index')\n",
    "print('Electoral College Votes by State:\\n{}\\n'.format(ec_votes))\n",
    "print('Wasted Popular Votes by State:\\n{}\\n'.format(wasted))\n",
    "print('Electoral College Tally:\\n{}\\n'.format(ec_votes.sum()))\n",
    "print('Wasted popular votes:\\n{}'.format(wasted.sum()))"
   ]
  }
 ],
 "metadata": {
  "anaconda-cloud": {},
  "kernelspec": {
   "display_name": "Python [conda env:analysis]",
   "language": "python",
   "name": "conda-env-analysis-py"
  },
  "language_info": {
   "codemirror_mode": {
    "name": "ipython",
    "version": 3
   },
   "file_extension": ".py",
   "mimetype": "text/x-python",
   "name": "python",
   "nbconvert_exporter": "python",
   "pygments_lexer": "ipython3",
   "version": "3.5.2"
  }
 },
 "nbformat": 4,
 "nbformat_minor": 1
}
