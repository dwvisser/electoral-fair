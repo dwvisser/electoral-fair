{
 "cells": [
  {
   "cell_type": "code",
   "execution_count": 1,
   "metadata": {
    "collapsed": true
   },
   "outputs": [],
   "source": [
    "import pandas as pd\n",
    "from bs4 import BeautifulSoup\n",
    "import urllib\n",
    "from collections import OrderedDict"
   ]
  },
  {
   "cell_type": "markdown",
   "metadata": {},
   "source": [
    "## Scrape Wikipedia Page"
   ]
  },
  {
   "cell_type": "code",
   "execution_count": 2,
   "metadata": {
    "collapsed": false
   },
   "outputs": [],
   "source": [
    "# list of state abbreviations\n",
    "states = ['AL','AK','AZ','AR','CA','CO','CT','DC','DE','FL',\n",
    "          'GA','HI','ID','IL','IN','IA','KS','KY','LA','ME',\n",
    "          'MD','MA','MI','MN','MS','MO','MT','NE','NV','NH',\n",
    "          'NJ','NM','NY','NC','ND','OH','OK','OR','PA','RI',\n",
    "          'SC','SD','TN','TX','UT','VT','VA','WA','WV','WI','WY', 'US']\n",
    "\n",
    "ec_votes=[9,  3,  11, 6,  55, 9,  7,  3,  3,  29,\n",
    "          16, 4,  4,  20, 11, 6,  6,  8,  8,  4,\n",
    "          10, 11, 16, 10, 6,  10, 3,  5,  6,  4,\n",
    "          14, 5,  29, 15, 3,  18, 7,  7,  20, 4,\n",
    "          9,  3,  11, 38, 6,  3,  13, 12, 5,  10, 3, 538]\n",
    "\n",
    "ec_votes_dict = OrderedDict()\n",
    "for i in range(len(states)):\n",
    "    ec_votes_dict[states[i]] = ec_votes[i]"
   ]
  },
  {
   "cell_type": "code",
   "execution_count": 3,
   "metadata": {
    "collapsed": false
   },
   "outputs": [],
   "source": [
    "url = 'https://en.wikipedia.org/wiki/United_States_presidential_election,_2016'\n",
    "page = BeautifulSoup(urllib.request.urlopen(url).read(), \"html.parser\")"
   ]
  },
  {
   "cell_type": "code",
   "execution_count": 4,
   "metadata": {
    "collapsed": false
   },
   "outputs": [],
   "source": [
    "header = page.find('span', id='Results_by_state').parent\n",
    "table = header.find_next_sibling('div').table\n",
    "head_row = table.find('tr')\n",
    "headings = []\n",
    "for cell in head_row.find_all('th', attrs={'colspan': '3'}):\n",
    "    children = list(cell.children)\n",
    "    if len(children) == 3:\n",
    "        headings.append((children[0].strip(), children[2].strip()))\n",
    "    else:\n",
    "        headings.append((children[0], None))\n",
    "data = OrderedDict()\n",
    "all_rows = list(table.find_all('tr'))\n",
    "for row in all_rows[2:-1]:\n",
    "    cells = list(row.find_all('td'))\n",
    "    abbr = cells[21].string.strip()\n",
    "    if len(abbr)==2 or len(abbr)==6:\n",
    "        abbr = abbr[:2]\n",
    "        data[abbr] = [cells[i].text.strip().replace(',','').replace('.', '').replace('-','0').replace('N/A', '0')\n",
    "                      for i in range(2,23, 3)]\n",
    "cells = all_rows[-1].find_all('th')\n",
    "abbr = cells[21].string.strip()\n",
    "data[abbr] = [cells[i].text.strip().replace(',','').replace('-','0') for i in range(2,23, 3)]\n",
    "for district, votes in data.items():\n",
    "    data[district] = [int(i) if len(i) else 0 for i in votes]"
   ]
  },
  {
   "cell_type": "code",
   "execution_count": 5,
   "metadata": {
    "collapsed": false
   },
   "outputs": [
    {
     "name": "stdout",
     "output_type": "stream",
     "text": [
      "          HC        DT       GJ       JS      EM        O          T    E\n",
      "AL    729547   1318255    44467     9391       0    21712    2123372    9\n",
      "AK    116454    163387    18725     5735       0    14307     318608    3\n",
      "AZ   1161167   1252401   106327    34345   17449     1476    2573165   11\n",
      "AR    380494    684872    29829     9473   13255    12712    1130635    6\n",
      "CA   8753788   4483810   478500   278657   39596   147244   14181595   55\n",
      "CO   1338870   1202484   144121    38437   28917    27391    2780220    9\n",
      "CT    897572    673215    48676    22841    2108      508    1644920    7\n",
      "DE    235603    185127    14757     6103       0        0     441590    3\n",
      "DC    282830     12723     4906     4258       0     7858     312575    3\n",
      "FL   4504975   4617886   207043    64399       0    25736    9420039   29\n",
      "GA   1877963   2089104   125306        0       0        0    4092373   16\n",
      "HI    266891    128847    15954    12737       0    13235     437664    4\n",
      "ID    189765    409055    28331     8496   46476     8132     690255    4\n",
      "IL   3090729   2146015   209596    76802   11655     1627    5536424   20\n",
      "IN   1039126   1557286   133993     7841       0     2712    2740958   11\n",
      "IA    653669    800983    59186    11479   12366    28348    1566031    6\n",
      "KS    427005    671018    55406    23506    6520      947    1184402    6\n",
      "KY    628854   1202971    53752    13913   22780     1879    1924149    8\n",
      "LA    780154   1178638    37978    14031    8547     9684    2029032    8\n",
      "ME    357735    335593    38105    14251    1887      356     747927    4\n",
      "MD   1677928    943169    79605    35945    9630    35169    2781446   10\n",
      "MA   1995196   1090893   138018    47661    2719    50559    3325046   11\n",
      "MI   2268839   2279543   172136    51463    8177    19087    4799284   16\n",
      "MN   1367716   1322951   112972    36985   53076    51113    2944813   10\n",
      "MS    485131    700714    14435     3731       0     5346    1209357    6\n",
      "MO   1071068   1594511    97359    25419    7071    13177    2808605   10\n",
      "MT    177709    279240    28037     7970    2297     1894     497147    3\n",
      "NE    284494    495961    38946     8775       0    16051     844227    5\n",
      "NV    539260    512058    37384        0       0    36683    1125385    6\n",
      "NH    348526    345790    30777     6496    1064     9232     741885    4\n",
      "NJ   2148278   1601933    72477    37772       0    46249    3906709   14\n",
      "NM    385234    319666    74541     9879    5825     3173     798318    5\n",
      "NY   4441437   2738645   170685   105000       0        0          0   29\n",
      "NC   2189350   2362697   130134    12093       0    47391    4741665   15\n",
      "ND     93758    216794    21434     3780       0     8594     344360    3\n",
      "OH   2394164   2841005   174498    46271   12574    27975    5496487   18\n",
      "OK    420375    949136    83481        0       0        0    1452992    7\n",
      "OR   1002106    782403    94231    50002       0    72594    2001336    7\n",
      "PA   2926441   2970733   146715    49941    2220    21572    6115402   20\n",
      "RI    227062    166454    14746     6171       0        0          0    4\n",
      "SC    855373   1155389    49204    13034   21016     9011    2103027    9\n",
      "SD    117458    227721    20850        0       0     4064     370093    3\n",
      "TN    870695   1522925    70397    15993   11991    16062    2508027   11\n",
      "TX   3877868   4685047   283492    71558   42366     8895    8969226   38\n",
      "UT    310674    515211    39608     9438  243685    12701    1131317    6\n",
      "VT    178573     95369    10078     6758     629    29060     320467    3\n",
      "VA   1981473   1769443   118274    27638   54054    31870    3982752   13\n",
      "WA   1742718   1221747   160879    58417       0        0          0   12\n",
      "WV    188794    489371    23004     8075       0     3807     713051    5\n",
      "WI   1382536   1405284   106674    31072   11855    38729    2976150   10\n",
      "WY     55973    174419    13287     2515       0     9655     255849    3\n",
      "US  65844610  62979636  4488912  1457038  725196  1466666  136962058  538\n"
     ]
    }
   ],
   "source": [
    "abbreviations  = []\n",
    "for h in headings:\n",
    "    abbreviations.append(''.join([s[0] for s in h[0].split()]))\n",
    "vote_data = pd.DataFrame.from_dict(data, orient='index')\n",
    "vote_data.columns=abbreviations\n",
    "vote_data['E'] = pd.DataFrame.from_dict(ec_votes_dict, orient='index')[0]\n",
    "print(vote_data)"
   ]
  },
  {
   "cell_type": "markdown",
   "metadata": {},
   "source": [
    "## Export data"
   ]
  },
  {
   "cell_type": "code",
   "execution_count": 6,
   "metadata": {
    "collapsed": false
   },
   "outputs": [],
   "source": [
    "filename = 'vote_data.csv'\n",
    "vote_data.to_csv(filename,sep=',')"
   ]
  },
  {
   "cell_type": "code",
   "execution_count": 7,
   "metadata": {
    "collapsed": false
   },
   "outputs": [
    {
     "name": "stdout",
     "output_type": "stream",
     "text": [
      "Electoral College Votes by State:\n",
      "    HC  DT  GJ  JS  EM  O\n",
      "AK   1   2   0   0   0  0\n",
      "AL   3   6   0   0   0  0\n",
      "AR   2   4   0   0   0  0\n",
      "AZ   5   5   1   0   0  0\n",
      "CA  34  18   2   1   0  0\n",
      "CO   4   4   1   0   0  0\n",
      "CT   4   3   0   0   0  0\n",
      "DC   3   0   0   0   0  0\n",
      "DE   2   1   0   0   0  0\n",
      "FL  14  14   1   0   0  0\n",
      "GA   7   8   1   0   0  0\n",
      "HI   3   1   0   0   0  0\n",
      "IA   3   3   0   0   0  0\n",
      "ID   1   3   0   0   0  0\n",
      "IL  11   8   1   0   0  0\n",
      "IN   4   6   1   0   0  0\n",
      "KS   2   4   0   0   0  0\n",
      "KY   3   5   0   0   0  0\n",
      "LA   3   5   0   0   0  0\n",
      "MA   7   4   0   0   0  0\n",
      "MD   6   4   0   0   0  0\n",
      "ME   2   2   0   0   0  0\n",
      "MI   7   8   1   0   0  0\n",
      "MN   5   5   0   0   0  0\n",
      "MO   4   6   0   0   0  0\n",
      "MS   2   4   0   0   0  0\n",
      "MT   1   2   0   0   0  0\n",
      "NC   7   8   0   0   0  0\n",
      "ND   1   2   0   0   0  0\n",
      "NE   2   3   0   0   0  0\n",
      "NH   2   2   0   0   0  0\n",
      "NJ   8   6   0   0   0  0\n",
      "NM   2   2   1   0   0  0\n",
      "NV   3   3   0   0   0  0\n",
      "NY  17  11   1   0   0  0\n",
      "OH   8   9   1   0   0  0\n",
      "OK   2   5   0   0   0  0\n",
      "OR   4   3   0   0   0  0\n",
      "PA  10  10   0   0   0  0\n",
      "RI   2   2   0   0   0  0\n",
      "SC   4   5   0   0   0  0\n",
      "SD   1   2   0   0   0  0\n",
      "TN   4   7   0   0   0  0\n",
      "TX  17  20   1   0   0  0\n",
      "UT   2   3   0   0   1  0\n",
      "VA   7   6   0   0   0  0\n",
      "VT   2   1   0   0   0  0\n",
      "WA   6   5   1   0   0  0\n",
      "WI   5   5   0   0   0  0\n",
      "WV   1   4   0   0   0  0\n",
      "WY   1   2   0   0   0  0\n",
      "\n",
      "Wasted Popular Votes by State:\n",
      "       DT      GJ      HC       O      JS     EM\n",
      "AK      0   18725   10252   14307    5735      0\n",
      "AL      0   44467   21757   21712    9391      0\n",
      "AR      0   29829    3616   12712    9473  13255\n",
      "AZ  82781       0       0    1476   34345  17449\n",
      "CA      0       0       0  147244   20810  39596\n",
      "CO      0       0  103217   27391   38437  28917\n",
      "CT      0   48676       0     508   22841   2108\n",
      "DC  12723    4906       0    7858    4258      0\n",
      "DE  37931   14757       0       0    6103      0\n",
      "FL  70281       0       0   25736   64399      0\n",
      "GA  42918       0   87550       0       0      0\n",
      "HI  19431   15954       0   13235   12737      0\n",
      "IA  17968   59186       0   28348   11479  12366\n",
      "ID      0   28331   17202    8132    8496  46476\n",
      "IL      0       0   45696    1627   76802  11655\n",
      "IN  62218       0   42414    2712    7841      0\n",
      "KS      0   55406   32205     947   23506   6520\n",
      "KY    378   53752       0    1879   13913  22780\n",
      "LA      0   37978   19267    9684   14031   8547\n",
      "MA      0  138018       0   50559   47661   2719\n",
      "MD      0   79605    9061   35169   35945   9630\n",
      "ME      0   38105       0     356   14251   1887\n",
      "MI      0       0  169153   19087   51463   8177\n",
      "MN      0  112972       0   51113   36985  53076\n",
      "MO      0   97359       0   13177   25419   7071\n",
      "MS      0   14435   82012    5346    3731      0\n",
      "MT      0   28037   11994    1894    7970   2297\n",
      "NC      0  130134       0   47391   12093      0\n",
      "ND      0   21434       0    8594    3780      0\n",
      "NE      0   38946       0   16051    8775      0\n",
      "NH      0   30777       0    9232    6496   1064\n",
      "NJ      0   72477       0   46249   37772      0\n",
      "NM    339       0   65907    3173    9879   5825\n",
      "NV      0   37384       0   36683       0      0\n",
      "NY      0       0   70815       0  105000      0\n",
      "OH  92762       0       0   27975   46271  12574\n",
      "OK      0   83481    5235       0       0      0\n",
      "OR      0   94231       0   72594   50002      0\n",
      "PA      0  146715       0   21572   49941   2220\n",
      "RI      0   14746   19846       0    6171      0\n",
      "SC      0   49204       0    9011   13034  21016\n",
      "SD      0   20850       0    4064       0      0\n",
      "TN      0   70397       0   16062   15993  11991\n",
      "TX      0   47460       0    8895   71558  42366\n",
      "UT      0   39608       0   12701    9438  55133\n",
      "VA      0  118274       0   31870   27638  54054\n",
      "VT      0   10078       0   29060    6758    629\n",
      "WA      0       0  150838       0   58417      0\n",
      "WI      0  106674       0   38729   31072  11855\n",
      "WV      0   23004   46184    3807    8075      0\n",
      "WY   3853   13287       0    9655    2515      0\n",
      "\n",
      "Electoral College Tally:\n",
      "HC    261\n",
      "DT    261\n",
      "GJ     14\n",
      "JS      1\n",
      "EM      1\n",
      "O       0\n",
      "dtype: int64\n",
      "\n",
      "Wasted popular votes:\n",
      "DT     443583\n",
      "GJ    2089659\n",
      "HC    1014221\n",
      "O      955577\n",
      "JS    1188700\n",
      "EM     513253\n",
      "dtype: int64\n"
     ]
    }
   ],
   "source": [
    "from math import ceil, floor\n",
    "from operator import itemgetter\n",
    "ec_votes = OrderedDict()\n",
    "wasted = OrderedDict()\n",
    "for i in range(51):\n",
    "    st = vote_data.iloc[i]\n",
    "    c = OrderedDict(st.loc['HC':'O'])\n",
    "    e = OrderedDict()\n",
    "    r = {}\n",
    "    E = st.loc['E']\n",
    "    V = st.loc['T']\n",
    "    if V == 0:\n",
    "        V = sum(list(st)[:6])\n",
    "    for candidate, pop_votes in c.items():\n",
    "        e[candidate] = floor(E * pop_votes / V)\n",
    "        r[candidate] = ceil(pop_votes - V * e[candidate] / E)\n",
    "    r = OrderedDict(sorted(r.items(), key=itemgetter(1), reverse=True))\n",
    "    remainder = E - sum(e.values())\n",
    "    for candidate in r.keys():\n",
    "        if candidate != 'O': # not mappable to a single candidate\n",
    "            e[candidate] += 1\n",
    "            remainder -= 1\n",
    "            r[candidate] = 0\n",
    "            if remainder == 0:\n",
    "                break\n",
    "    ec_votes[st.name] = e\n",
    "    wasted[st.name] = r\n",
    "ec_votes = pd.DataFrame.from_dict(ec_votes, orient='index')\n",
    "wasted = pd.DataFrame.from_dict(wasted, orient='index')\n",
    "print('Electoral College Votes by State:\\n{}\\n'.format(ec_votes))\n",
    "print('Wasted Popular Votes by State:\\n{}\\n'.format(wasted))\n",
    "print('Electoral College Tally:\\n{}\\n'.format(ec_votes.sum()))\n",
    "print('Wasted popular votes:\\n{}'.format(wasted.sum()))"
   ]
  },
  {
   "cell_type": "code",
   "execution_count": null,
   "metadata": {
    "collapsed": true
   },
   "outputs": [],
   "source": []
  }
 ],
 "metadata": {
  "anaconda-cloud": {},
  "kernelspec": {
   "display_name": "Python [conda env:analysis]",
   "language": "python",
   "name": "conda-env-analysis-py"
  },
  "language_info": {
   "codemirror_mode": {
    "name": "ipython",
    "version": 3
   },
   "file_extension": ".py",
   "mimetype": "text/x-python",
   "name": "python",
   "nbconvert_exporter": "python",
   "pygments_lexer": "ipython3",
   "version": "3.5.2"
  }
 },
 "nbformat": 4,
 "nbformat_minor": 1
}
