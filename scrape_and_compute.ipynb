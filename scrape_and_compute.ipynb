{
 "cells": [
  {
   "cell_type": "code",
   "execution_count": 1,
   "metadata": {
    "collapsed": true
   },
   "outputs": [],
   "source": [
    "import pandas as pd\n",
    "import numpy as np\n",
    "from bs4 import BeautifulSoup\n",
    "import urllib\n",
    "from IPython.display import display, display_pretty, Javascript, HTML\n",
    "from collections import OrderedDict"
   ]
  },
  {
   "cell_type": "markdown",
   "metadata": {},
   "source": [
    "## Scrape Wikipedia Page"
   ]
  },
  {
   "cell_type": "code",
   "execution_count": 2,
   "metadata": {
    "collapsed": false
   },
   "outputs": [],
   "source": [
    "# list of state abbreviations\n",
    "states = ['AL','AK','AZ','AR','CA','CO','CT','DC','DE','FL',\n",
    "          'GA','HI','ID','IL','IN','IA','KS','KY','LA','ME',\n",
    "          'MD','MA','MI','MN','MS','MO','MT','NE','NV','NH',\n",
    "          'NJ','NM','NY','NC','ND','OH','OK','OR','PA','RI',\n",
    "          'SC','SD','TN','TX','UT','VT','VA','WA','WV','WI','WY', 'US']\n",
    "\n",
    "ec_votes=[9,  3,  11, 6,  55, 9,  7,  3,  3,  29,\n",
    "          16, 4,  4,  20, 11, 6,  6,  8,  8,  4,\n",
    "          10, 11, 16, 10, 6,  10, 3,  5,  6,  4,\n",
    "          14, 5,  29, 15, 3,  18, 7,  7,  20, 4,\n",
    "          9,  3,  11, 38, 6,  3,  13, 12, 5,  10, 3, 538]\n",
    "\n",
    "ec_votes_dict = OrderedDict()\n",
    "for i in range(len(states)):\n",
    "    ec_votes_dict[states[i]] = ec_votes[i]"
   ]
  },
  {
   "cell_type": "code",
   "execution_count": 3,
   "metadata": {
    "collapsed": false
   },
   "outputs": [],
   "source": [
    "url = 'https://en.wikipedia.org/wiki/United_States_presidential_election,_2016'\n",
    "page = BeautifulSoup(urllib.request.urlopen(url).read(), \"html.parser\")"
   ]
  },
  {
   "cell_type": "code",
   "execution_count": 4,
   "metadata": {
    "collapsed": false
   },
   "outputs": [],
   "source": [
    "header = page.find('span', id='Results_by_state').parent\n",
    "table = header.find_next_sibling('div').table\n",
    "head_row = table.find('tr')\n",
    "headings = []\n",
    "for cell in head_row.find_all('th', attrs={'colspan': '3'}):\n",
    "    children = list(cell.children)\n",
    "    if len(children) == 3:\n",
    "        headings.append((children[0].strip(), children[2].strip()))\n",
    "    else:\n",
    "        headings.append((children[0], None))\n",
    "data = OrderedDict()\n",
    "all_rows = list(table.find_all('tr'))\n",
    "for row in all_rows[2:-1]:\n",
    "    cells = list(row.find_all('td'))\n",
    "    abbr = cells[21].string.strip()\n",
    "    if len(abbr)==2 or len(abbr)==5:\n",
    "        abbr = abbr[:2]\n",
    "        data[abbr] = [cells[i].text.strip().replace(',','').replace('.', '').replace('-','0').replace('N/A', '0') for i in range(2,23, 3)]\n",
    "cells = all_rows[-1].find_all('th')\n",
    "abbr = cells[21].string.strip()\n",
    "data[abbr] = [cells[i].text.strip().replace(',','').replace('-','0') for i in range(2,23, 3)]\n",
    "for district, votes in data.items():\n",
    "    data[district] = [int(i) if len(i) else 0 for i in votes]"
   ]
  },
  {
   "cell_type": "code",
   "execution_count": 5,
   "metadata": {
    "collapsed": false
   },
   "outputs": [
    {
     "name": "stdout",
     "output_type": "stream",
     "text": [
      "          HC        DT       GJ       JS      EM        O          T    E\n",
      "AL    729547   1318255    44467     9391       0    21712    2123372    9\n",
      "AK    116454    163387    18725     5735       0    14307     318608    3\n",
      "AZ   1161167   1252401   106327    34345   17449     1476    2573165   11\n",
      "AR    380494    684872    29829     9473   13255    12712    1130635    6\n",
      "CA   8753788   4483810   478500   278657   39596   147244   14181595   55\n",
      "CO   1338870   1202484   144121    38437   28917    27391    2780220    9\n",
      "CT    897572    673215    48676    22841    2108      508    1644920    7\n",
      "DE    235603    185127    14757     6103       0        0     441590    3\n",
      "DC    282830     12723     4906     4258       0     7858     312575    3\n",
      "FL   4504975   4617886   207043    64399       0    25736    9420039   29\n",
      "GA   1877963   2089104   125306        0       0        0    4092373   16\n",
      "HI    266891    128847    15954    12737       0    13235     437664    4\n",
      "ID    189765    409055    28331     8496   46476     8132     690255    4\n",
      "IL   3090729   2146015   209596    76802   11655     1627    5536424   20\n",
      "IN   1039126   1557286   133993     7841       0     2712    2740958   11\n",
      "IA    653669    800983    59186    11479   12366    28348    1566031    6\n",
      "KS    427005    671018    55406    23506    6520      947    1184402    6\n",
      "KY    628854   1202971    53752    13913   22780     1879    1924149    8\n",
      "LA    780154   1178638    37978    14031    8547     9684    2029032    8\n",
      "MD   1677928    943169    79605    35945    9630    35169    2781446   10\n",
      "MA   1995196   1090893   138018    47661    2719    50559    3325046   11\n",
      "MI   2268839   2279543   172136    51463    8177    19087    4799284   16\n",
      "MN   1367716   1322951   112972    36985   53076    51113    2944813   10\n",
      "MS    462127    678284    14411     3595       0        0          0    6\n",
      "MO   1071068   1594511    97359    25419    7071    13177    2808605   10\n",
      "MT    177709    279240    28037     7970    2297     1894     497147    3\n",
      "NV    539260    512058    37384        0       0    36683    1125385    6\n",
      "NH    348526    345790    30777     6496    1064     9232     741885    4\n",
      "NJ   2148278   1601933    72477    37772       0    46249    3906709   14\n",
      "NM    385234    319666    74541     9879    5825     3173     798318    5\n",
      "NY   4441437   2738645   170685   105000       0        0          0   29\n",
      "NC   2189350   2362697   130134    12093       0    47391    4741665   15\n",
      "ND     93758    216794    21434     3780       0     8594     344360    3\n",
      "OH   2394164   2841005   174498    46271   12574    27975    5496487   18\n",
      "OK    420375    949136    83481        0       0        0    1452992    7\n",
      "OR   1002106    782403    94231    50002       0    72594    2001336    7\n",
      "PA   2926441   2970733   146715    49941       0    21572    6115402   20\n",
      "RI    227062    166454    14746     6171       0        0          0    4\n",
      "SC    855373   1155389    49204    13034   21016     9011    2103027    9\n",
      "SD    117442    227701    20845        0       0        0          0    3\n",
      "TN    870695   1522925    70397    15993   11991    16062    2508027   11\n",
      "TX   3877868   4685047   283492    71558   42366     8895    8969226   38\n",
      "UT    310674    515211    39608     9438  243685    12701    1131317    6\n",
      "VT    178573     95369    10078     6758     629    29060     320467    3\n",
      "VA   1981473   1769443   118274    27638   54054    31870    3982752   13\n",
      "WA   1742718   1221747   160879    58417       0        0          0   12\n",
      "WV    188794    489371    23004     8075       0     3807     713051    5\n",
      "WI   1382536   1405284   106674    31072   11855    38729    2976150   10\n",
      "WY     55973    174419    13287     2515       0     9655     255849    3\n",
      "US  65844594  62979616  4488824  1457007  725196  1466660  136961897  538\n"
     ]
    }
   ],
   "source": [
    "abbreviations  = []\n",
    "for h in headings:\n",
    "    abbreviations.append(''.join([s[0] for s in h[0].split()]))\n",
    "vote_data = pd.DataFrame.from_dict(data, orient='index')\n",
    "vote_data.columns=abbreviations\n",
    "vote_data['E'] = pd.DataFrame.from_dict(ec_votes_dict, orient='index')[0]\n",
    "print(vote_data)"
   ]
  },
  {
   "cell_type": "markdown",
   "metadata": {},
   "source": [
    "## Export data"
   ]
  },
  {
   "cell_type": "code",
   "execution_count": 6,
   "metadata": {
    "collapsed": false
   },
   "outputs": [],
   "source": [
    "filename = 'vote_data.csv'\n",
    "vote_data.to_csv(filename,sep=',')"
   ]
  }
 ],
 "metadata": {
  "anaconda-cloud": {},
  "kernelspec": {
   "display_name": "Python [conda env:analysis]",
   "language": "python",
   "name": "conda-env-analysis-py"
  },
  "language_info": {
   "codemirror_mode": {
    "name": "ipython",
    "version": 3
   },
   "file_extension": ".py",
   "mimetype": "text/x-python",
   "name": "python",
   "nbconvert_exporter": "python",
   "pygments_lexer": "ipython3",
   "version": "3.5.2"
  }
 },
 "nbformat": 4,
 "nbformat_minor": 1
}
