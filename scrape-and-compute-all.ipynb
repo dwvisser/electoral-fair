{
 "cells": [
  {
   "cell_type": "code",
   "execution_count": 1,
   "metadata": {
    "collapsed": true
   },
   "outputs": [],
   "source": [
    "import pandas as pd\n",
    "from bs4 import BeautifulSoup\n",
    "import urllib\n",
    "from collections import OrderedDict\n",
    "from math import ceil, floor\n",
    "from operator import itemgetter"
   ]
  },
  {
   "cell_type": "markdown",
   "metadata": {},
   "source": [
    "## Scrape Wikipedia Page"
   ]
  },
  {
   "cell_type": "code",
   "execution_count": 2,
   "metadata": {
    "collapsed": false
   },
   "outputs": [],
   "source": [
    "# list of state abbreviations\n",
    "states = ['AL','AK','AZ','AR','CA','CO','CT','DC','DE','FL',\n",
    "          'GA','HI','ID','IL','IN','IA','KS','KY','LA','ME',\n",
    "          'MD','MA','MI','MN','MS','MO','MT','NE','NV','NH',\n",
    "          'NJ','NM','NY','NC','ND','OH','OK','OR','PA','RI',\n",
    "          'SC','SD','TN','TX','UT','VT','VA','WA','WV','WI','WY', 'US']\n",
    "\n",
    "def append_sum(ec):\n",
    "    ec.append(sum(ec))\n",
    "\n",
    "ec_votes_2000=[9,  3,  8,  6,  54, 8,  8,  3,  3,  25,\n",
    "          13, 4,  4,  22, 12, 7,  6,  8,  9,  4,\n",
    "          10, 12, 18, 10, 7,  11, 3,  5,  4,  4,\n",
    "          15, 5,  33, 14, 3,  21, 8,  7,  23, 4,\n",
    "          8,  3,  11, 32, 5,  3,  13, 11, 5,  11, 3]\n",
    "append_sum(ec_votes_2000)\n",
    "ec_votes_2012=[9,  3,  11, 6,  55, 9,  7,  3,  3,  29,\n",
    "          16, 4,  4,  20, 11, 6,  6,  8,  8,  4,\n",
    "          10, 11, 16, 10, 6,  10, 3,  5,  6,  4,\n",
    "          14, 5,  29, 15, 3,  18, 7,  7,  20, 4,\n",
    "          9,  3,  11, 38, 6,  3,  13, 12, 5,  10, 3]\n",
    "append_sum(ec_votes_2012)\n",
    "ec_votes = list(zip(ec_votes_2000, ec_votes_2012))\n",
    "\n",
    "ec_votes_dict = OrderedDict()\n",
    "for i in range(len(states)):\n",
    "    ec_votes_dict[states[i]] = ec_votes[i]\n",
    "ec_votes = pd.DataFrame.from_dict(ec_votes_dict, orient='index')\n",
    "ec_votes.rename(columns={0: '2000', 1: '2012'}, inplace=True)\n",
    "ec_votes['2016']=ec_votes['2012']"
   ]
  },
  {
   "cell_type": "code",
   "execution_count": 3,
   "metadata": {
    "collapsed": false
   },
   "outputs": [
    {
     "data": {
      "text/html": [
       "<div>\n",
       "<table border=\"1\" class=\"dataframe\">\n",
       "  <thead>\n",
       "    <tr style=\"text-align: right;\">\n",
       "      <th></th>\n",
       "      <th>2000</th>\n",
       "      <th>2012</th>\n",
       "      <th>2016</th>\n",
       "    </tr>\n",
       "  </thead>\n",
       "  <tbody>\n",
       "    <tr>\n",
       "      <th>WA</th>\n",
       "      <td>11</td>\n",
       "      <td>12</td>\n",
       "      <td>12</td>\n",
       "    </tr>\n",
       "    <tr>\n",
       "      <th>WV</th>\n",
       "      <td>5</td>\n",
       "      <td>5</td>\n",
       "      <td>5</td>\n",
       "    </tr>\n",
       "    <tr>\n",
       "      <th>WI</th>\n",
       "      <td>11</td>\n",
       "      <td>10</td>\n",
       "      <td>10</td>\n",
       "    </tr>\n",
       "    <tr>\n",
       "      <th>WY</th>\n",
       "      <td>3</td>\n",
       "      <td>3</td>\n",
       "      <td>3</td>\n",
       "    </tr>\n",
       "    <tr>\n",
       "      <th>US</th>\n",
       "      <td>538</td>\n",
       "      <td>538</td>\n",
       "      <td>538</td>\n",
       "    </tr>\n",
       "  </tbody>\n",
       "</table>\n",
       "</div>"
      ],
      "text/plain": [
       "    2000  2012  2016\n",
       "WA    11    12    12\n",
       "WV     5     5     5\n",
       "WI    11    10    10\n",
       "WY     3     3     3\n",
       "US   538   538   538"
      ]
     },
     "execution_count": 3,
     "metadata": {},
     "output_type": "execute_result"
    }
   ],
   "source": [
    "ec_votes.tail()"
   ]
  },
  {
   "cell_type": "code",
   "execution_count": 4,
   "metadata": {
    "collapsed": false
   },
   "outputs": [],
   "source": [
    "def clean(count_text):\n",
    "    return count_text.strip().replace(',','').replace('.', '').replace('-','0').replace(\n",
    "                'N/A', '0').replace('★', '').replace('–', '')"
   ]
  },
  {
   "cell_type": "code",
   "execution_count": 5,
   "metadata": {
    "collapsed": false
   },
   "outputs": [],
   "source": [
    "def read_in_data(year, num_candidates, total_column):\n",
    "    page = BeautifulSoup(urllib.request.urlopen(\n",
    "            'https://en.wikipedia.org/wiki/United_States_presidential_election,_'+year).read(), \"html.parser\")\n",
    "    header = page.find('span', id='Results_by_state').parent\n",
    "    table = header.find_next_sibling('div').table\n",
    "    head_row = table.find('tr')\n",
    "    headings = []\n",
    "    for cell in head_row.find_all('th', attrs={'colspan': '3'}):\n",
    "        children = list(cell.children)\n",
    "        if len(children) == 3:\n",
    "            headings.append((children[0].strip(), children[2].strip()))\n",
    "        else:\n",
    "            headings.append((children[0], None))\n",
    "    headings = headings[:num_candidates]\n",
    "    headings.append(('Total', None))\n",
    "    data = OrderedDict()\n",
    "    all_rows = list(table.find_all('tr'))\n",
    "    columns_with_vote_counts = list(range(2, 3*num_candidates, 3))\n",
    "    abbr_column = total_column + 1\n",
    "    columns_with_vote_counts.append(total_column)\n",
    "    for row in all_rows[2:-1]:\n",
    "        cells = list(row.find_all('td'))\n",
    "        abbr = cells[abbr_column].string.strip()\n",
    "        if len(abbr)==2 or len(abbr)==6:\n",
    "            abbr = abbr[:2]\n",
    "            data[abbr] = [clean(cells[i].text) for i in columns_with_vote_counts]\n",
    "    cells = all_rows[-1].find_all('th')\n",
    "    abbr = cells[abbr_column].string.strip()\n",
    "    data[abbr] = [clean(cells[i].text) for i in columns_with_vote_counts]\n",
    "    for district, votes in data.items():\n",
    "        data[district] = [int(i) if len(i) else 0 for i in votes]\n",
    "    abbreviations  = []\n",
    "    for h in headings:\n",
    "        abbreviations.append(''.join([s[0] for s in h[0].split()]))\n",
    "    vote_data = pd.DataFrame.from_dict(data, orient='index')\n",
    "    vote_data.columns=abbreviations\n",
    "    vote_data['E'] = ec_votes[year]\n",
    "#     vote_data['E'] = pd.DataFrame.from_dict(ec_votes_dict, orient='index')[0]\n",
    "    return vote_data"
   ]
  },
  {
   "cell_type": "code",
   "execution_count": 6,
   "metadata": {
    "collapsed": false
   },
   "outputs": [],
   "source": [
    "vote_data_2000 = read_in_data('2000', 8, 28)"
   ]
  },
  {
   "cell_type": "code",
   "execution_count": 7,
   "metadata": {
    "collapsed": false
   },
   "outputs": [],
   "source": [
    "vote_data_2012 = read_in_data('2012', 5, 19)"
   ]
  },
  {
   "cell_type": "code",
   "execution_count": 8,
   "metadata": {
    "collapsed": false
   },
   "outputs": [],
   "source": [
    "vote_data_2016 = read_in_data('2016', 6, 20)"
   ]
  },
  {
   "cell_type": "code",
   "execution_count": 9,
   "metadata": {
    "collapsed": false
   },
   "outputs": [
    {
     "data": {
      "text/html": [
       "<div>\n",
       "<table border=\"1\" class=\"dataframe\">\n",
       "  <thead>\n",
       "    <tr style=\"text-align: right;\">\n",
       "      <th></th>\n",
       "      <th>GWB</th>\n",
       "      <th>AG</th>\n",
       "      <th>RN</th>\n",
       "      <th>PB</th>\n",
       "      <th>HB</th>\n",
       "      <th>HP</th>\n",
       "      <th>JH</th>\n",
       "      <th>O</th>\n",
       "      <th>T</th>\n",
       "      <th>E</th>\n",
       "    </tr>\n",
       "  </thead>\n",
       "  <tbody>\n",
       "    <tr>\n",
       "      <th>WA</th>\n",
       "      <td>1108864</td>\n",
       "      <td>1247652</td>\n",
       "      <td>103002</td>\n",
       "      <td>7171</td>\n",
       "      <td>13135</td>\n",
       "      <td>1989</td>\n",
       "      <td>2927</td>\n",
       "      <td>2693</td>\n",
       "      <td>2487433</td>\n",
       "      <td>11</td>\n",
       "    </tr>\n",
       "    <tr>\n",
       "      <th>WV</th>\n",
       "      <td>336475</td>\n",
       "      <td>295497</td>\n",
       "      <td>10680</td>\n",
       "      <td>3169</td>\n",
       "      <td>1912</td>\n",
       "      <td>23</td>\n",
       "      <td>367</td>\n",
       "      <td>1</td>\n",
       "      <td>648124</td>\n",
       "      <td>5</td>\n",
       "    </tr>\n",
       "    <tr>\n",
       "      <th>WI</th>\n",
       "      <td>1237279</td>\n",
       "      <td>1242987</td>\n",
       "      <td>94070</td>\n",
       "      <td>11471</td>\n",
       "      <td>6640</td>\n",
       "      <td>2042</td>\n",
       "      <td>853</td>\n",
       "      <td>3265</td>\n",
       "      <td>2598607</td>\n",
       "      <td>11</td>\n",
       "    </tr>\n",
       "    <tr>\n",
       "      <th>WY</th>\n",
       "      <td>147947</td>\n",
       "      <td>60481</td>\n",
       "      <td>4625</td>\n",
       "      <td>2724</td>\n",
       "      <td>1443</td>\n",
       "      <td>720</td>\n",
       "      <td>411</td>\n",
       "      <td>0</td>\n",
       "      <td>218351</td>\n",
       "      <td>3</td>\n",
       "    </tr>\n",
       "    <tr>\n",
       "      <th>US</th>\n",
       "      <td>50456002</td>\n",
       "      <td>50999897</td>\n",
       "      <td>2882955</td>\n",
       "      <td>448895</td>\n",
       "      <td>384431</td>\n",
       "      <td>98020</td>\n",
       "      <td>83714</td>\n",
       "      <td>51186</td>\n",
       "      <td>105405100</td>\n",
       "      <td>538</td>\n",
       "    </tr>\n",
       "  </tbody>\n",
       "</table>\n",
       "</div>"
      ],
      "text/plain": [
       "         GWB        AG       RN      PB      HB     HP     JH      O  \\\n",
       "WA   1108864   1247652   103002    7171   13135   1989   2927   2693   \n",
       "WV    336475    295497    10680    3169    1912     23    367      1   \n",
       "WI   1237279   1242987    94070   11471    6640   2042    853   3265   \n",
       "WY    147947     60481     4625    2724    1443    720    411      0   \n",
       "US  50456002  50999897  2882955  448895  384431  98020  83714  51186   \n",
       "\n",
       "            T    E  \n",
       "WA    2487433   11  \n",
       "WV     648124    5  \n",
       "WI    2598607   11  \n",
       "WY     218351    3  \n",
       "US  105405100  538  "
      ]
     },
     "execution_count": 9,
     "metadata": {},
     "output_type": "execute_result"
    }
   ],
   "source": [
    "vote_data_2000.tail()"
   ]
  },
  {
   "cell_type": "code",
   "execution_count": 10,
   "metadata": {
    "collapsed": false
   },
   "outputs": [
    {
     "data": {
      "text/html": [
       "<div>\n",
       "<table border=\"1\" class=\"dataframe\">\n",
       "  <thead>\n",
       "    <tr style=\"text-align: right;\">\n",
       "      <th></th>\n",
       "      <th>BO</th>\n",
       "      <th>MR</th>\n",
       "      <th>GJ</th>\n",
       "      <th>JS</th>\n",
       "      <th>O</th>\n",
       "      <th>T</th>\n",
       "      <th>E</th>\n",
       "    </tr>\n",
       "  </thead>\n",
       "  <tbody>\n",
       "    <tr>\n",
       "      <th>WA</th>\n",
       "      <td>1755396</td>\n",
       "      <td>1290670</td>\n",
       "      <td>42202</td>\n",
       "      <td>20928</td>\n",
       "      <td>16320</td>\n",
       "      <td>3125516</td>\n",
       "      <td>12</td>\n",
       "    </tr>\n",
       "    <tr>\n",
       "      <th>WV</th>\n",
       "      <td>238269</td>\n",
       "      <td>417655</td>\n",
       "      <td>6302</td>\n",
       "      <td>4406</td>\n",
       "      <td>3806</td>\n",
       "      <td>670438</td>\n",
       "      <td>5</td>\n",
       "    </tr>\n",
       "    <tr>\n",
       "      <th>WI</th>\n",
       "      <td>1620985</td>\n",
       "      <td>1407966</td>\n",
       "      <td>20439</td>\n",
       "      <td>7665</td>\n",
       "      <td>11379</td>\n",
       "      <td>3068434</td>\n",
       "      <td>10</td>\n",
       "    </tr>\n",
       "    <tr>\n",
       "      <th>WY</th>\n",
       "      <td>69286</td>\n",
       "      <td>170962</td>\n",
       "      <td>5326</td>\n",
       "      <td>0</td>\n",
       "      <td>3487</td>\n",
       "      <td>249061</td>\n",
       "      <td>3</td>\n",
       "    </tr>\n",
       "    <tr>\n",
       "      <th>US</th>\n",
       "      <td>65915795</td>\n",
       "      <td>60933504</td>\n",
       "      <td>1275971</td>\n",
       "      <td>469627</td>\n",
       "      <td>490512</td>\n",
       "      <td>129085409</td>\n",
       "      <td>538</td>\n",
       "    </tr>\n",
       "  </tbody>\n",
       "</table>\n",
       "</div>"
      ],
      "text/plain": [
       "          BO        MR       GJ      JS       O          T    E\n",
       "WA   1755396   1290670    42202   20928   16320    3125516   12\n",
       "WV    238269    417655     6302    4406    3806     670438    5\n",
       "WI   1620985   1407966    20439    7665   11379    3068434   10\n",
       "WY     69286    170962     5326       0    3487     249061    3\n",
       "US  65915795  60933504  1275971  469627  490512  129085409  538"
      ]
     },
     "execution_count": 10,
     "metadata": {},
     "output_type": "execute_result"
    }
   ],
   "source": [
    "vote_data_2012.tail()"
   ]
  },
  {
   "cell_type": "code",
   "execution_count": 11,
   "metadata": {
    "collapsed": false
   },
   "outputs": [
    {
     "data": {
      "text/html": [
       "<div>\n",
       "<table border=\"1\" class=\"dataframe\">\n",
       "  <thead>\n",
       "    <tr style=\"text-align: right;\">\n",
       "      <th></th>\n",
       "      <th>HC</th>\n",
       "      <th>DT</th>\n",
       "      <th>GJ</th>\n",
       "      <th>JS</th>\n",
       "      <th>EM</th>\n",
       "      <th>O</th>\n",
       "      <th>T</th>\n",
       "      <th>E</th>\n",
       "    </tr>\n",
       "  </thead>\n",
       "  <tbody>\n",
       "    <tr>\n",
       "      <th>WA</th>\n",
       "      <td>1742718</td>\n",
       "      <td>1221747</td>\n",
       "      <td>160879</td>\n",
       "      <td>58417</td>\n",
       "      <td>0</td>\n",
       "      <td>25453</td>\n",
       "      <td>3209214</td>\n",
       "      <td>12</td>\n",
       "    </tr>\n",
       "    <tr>\n",
       "      <th>WV</th>\n",
       "      <td>188794</td>\n",
       "      <td>489371</td>\n",
       "      <td>23004</td>\n",
       "      <td>8075</td>\n",
       "      <td>0</td>\n",
       "      <td>3807</td>\n",
       "      <td>713051</td>\n",
       "      <td>5</td>\n",
       "    </tr>\n",
       "    <tr>\n",
       "      <th>WI</th>\n",
       "      <td>1382536</td>\n",
       "      <td>1405284</td>\n",
       "      <td>106674</td>\n",
       "      <td>31072</td>\n",
       "      <td>11855</td>\n",
       "      <td>38729</td>\n",
       "      <td>2976150</td>\n",
       "      <td>10</td>\n",
       "    </tr>\n",
       "    <tr>\n",
       "      <th>WY</th>\n",
       "      <td>55973</td>\n",
       "      <td>174419</td>\n",
       "      <td>13287</td>\n",
       "      <td>2515</td>\n",
       "      <td>0</td>\n",
       "      <td>9655</td>\n",
       "      <td>255849</td>\n",
       "      <td>3</td>\n",
       "    </tr>\n",
       "    <tr>\n",
       "      <th>US</th>\n",
       "      <td>65853625</td>\n",
       "      <td>62985105</td>\n",
       "      <td>4489233</td>\n",
       "      <td>1457222</td>\n",
       "      <td>728860</td>\n",
       "      <td>1579672</td>\n",
       "      <td>137098443</td>\n",
       "      <td>538</td>\n",
       "    </tr>\n",
       "  </tbody>\n",
       "</table>\n",
       "</div>"
      ],
      "text/plain": [
       "          HC        DT       GJ       JS      EM        O          T    E\n",
       "WA   1742718   1221747   160879    58417       0    25453    3209214   12\n",
       "WV    188794    489371    23004     8075       0     3807     713051    5\n",
       "WI   1382536   1405284   106674    31072   11855    38729    2976150   10\n",
       "WY     55973    174419    13287     2515       0     9655     255849    3\n",
       "US  65853625  62985105  4489233  1457222  728860  1579672  137098443  538"
      ]
     },
     "execution_count": 11,
     "metadata": {},
     "output_type": "execute_result"
    }
   ],
   "source": [
    "vote_data_2016.tail()"
   ]
  },
  {
   "cell_type": "markdown",
   "metadata": {},
   "source": [
    "## Export data"
   ]
  },
  {
   "cell_type": "code",
   "execution_count": null,
   "metadata": {
    "collapsed": false
   },
   "outputs": [],
   "source": [
    "filename = 'state-vote-data-2000.csv'\n",
    "vote_data.to_csv(filename,sep=',')"
   ]
  },
  {
   "cell_type": "code",
   "execution_count": null,
   "metadata": {
    "collapsed": false
   },
   "outputs": [],
   "source": [
    "ec_votes = OrderedDict()\n",
    "wasted = OrderedDict()\n",
    "for i in range(51):\n",
    "    st = vote_data.iloc[i]\n",
    "    c = OrderedDict(st.loc['GWB':'O'])\n",
    "    e = OrderedDict()\n",
    "    r = {}\n",
    "    E = st.loc['E']\n",
    "    V = st.loc['T']\n",
    "    if V == 0:\n",
    "        V = sum(list(st)[:6])\n",
    "    for candidate, pop_votes in c.items():\n",
    "        e[candidate] = floor(E * pop_votes / V)\n",
    "        r[candidate] = ceil(pop_votes - V * e[candidate] / E)\n",
    "    r = OrderedDict(sorted(r.items(), key=itemgetter(1), reverse=True))\n",
    "    remainder = E - sum(e.values())\n",
    "    for candidate in r.keys():\n",
    "        if candidate != 'O': # not mappable to a single candidate\n",
    "            e[candidate] += 1\n",
    "            remainder -= 1\n",
    "            r[candidate] = 0\n",
    "            if remainder == 0:\n",
    "                break\n",
    "    ec_votes[st.name] = e\n",
    "    wasted[st.name] = r\n",
    "ec_votes = pd.DataFrame.from_dict(ec_votes, orient='index')\n",
    "wasted = pd.DataFrame.from_dict(wasted, orient='index')\n",
    "print('Electoral College Votes by State:\\n{}\\n'.format(ec_votes))\n",
    "print('Wasted Popular Votes by State:\\n{}\\n'.format(wasted))\n",
    "print('Electoral College Tally:\\n{}\\n'.format(ec_votes.sum()))\n",
    "print('Wasted popular votes:\\n{}'.format(wasted.sum()))"
   ]
  }
 ],
 "metadata": {
  "anaconda-cloud": {},
  "kernelspec": {
   "display_name": "Python [conda env:analysis]",
   "language": "python",
   "name": "conda-env-analysis-py"
  },
  "language_info": {
   "codemirror_mode": {
    "name": "ipython",
    "version": 3
   },
   "file_extension": ".py",
   "mimetype": "text/x-python",
   "name": "python",
   "nbconvert_exporter": "python",
   "pygments_lexer": "ipython3",
   "version": "3.5.2"
  }
 },
 "nbformat": 4,
 "nbformat_minor": 1
}
